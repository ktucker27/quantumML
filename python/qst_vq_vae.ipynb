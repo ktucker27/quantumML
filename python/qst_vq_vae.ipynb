{
 "cells": [
  {
   "cell_type": "code",
   "execution_count": 1,
   "metadata": {},
   "outputs": [],
   "source": [
    "import sys\n",
    "assert sys.version_info >= (3, 6), \"Sonnet 2 requires Python >=3.6\""
   ]
  },
  {
   "cell_type": "code",
   "execution_count": 2,
   "metadata": {},
   "outputs": [
    {
     "name": "stdout",
     "output_type": "stream",
     "text": [
      "TensorFlow version 2.3.1\n",
      "Sonnet version 2.0.0\n"
     ]
    }
   ],
   "source": [
    "import matplotlib.pyplot as plt\n",
    "import numpy as np\n",
    "import tensorflow.compat.v2 as tf\n",
    "import tensorflow_datasets as tfds\n",
    "import tree\n",
    "import pandas as pd\n",
    "\n",
    "try:\n",
    "  import sonnet.v2 as snt\n",
    "  tf.enable_v2_behavior()\n",
    "except ImportError:\n",
    "  import sonnet as snt\n",
    "\n",
    "print(\"TensorFlow version {}\".format(tf.__version__))\n",
    "print(\"Sonnet version {}\".format(snt.__version__))"
   ]
  },
  {
   "cell_type": "code",
   "execution_count": 3,
   "metadata": {},
   "outputs": [
    {
     "name": "stdout",
     "output_type": "stream",
     "text": [
      "/Users/tuckerkj/git/quantumML/python\r\n"
     ]
    }
   ],
   "source": [
    "!pwd"
   ]
  },
  {
   "cell_type": "code",
   "execution_count": 4,
   "metadata": {},
   "outputs": [],
   "source": [
    "is_data = pd.read_table('/Users/tuckerkj/Google Drive/Research/QML/data/quc_examples/Tutorial1_TrainPosRealWaveFunction/tfim1d_data.txt', delimiter=' ', usecols=range(10)).values\n",
    "is_train = is_data[0:7999]\n",
    "is_test = is_data[8000:9999]"
   ]
  },
  {
   "cell_type": "code",
   "execution_count": 5,
   "metadata": {},
   "outputs": [
    {
     "data": {
      "text/plain": [
       "(7999, 10)"
      ]
     },
     "execution_count": 5,
     "metadata": {},
     "output_type": "execute_result"
    }
   ],
   "source": [
    "is_train.shape"
   ]
  },
  {
   "cell_type": "code",
   "execution_count": 6,
   "metadata": {},
   "outputs": [],
   "source": [
    "original_dim = is_train.shape[1]"
   ]
  },
  {
   "cell_type": "code",
   "execution_count": 7,
   "metadata": {},
   "outputs": [],
   "source": [
    "# network parameters\n",
    "input_shape = (original_dim, )\n",
    "intermediate_dim = 100\n",
    "batch_size = 128\n",
    "latent_dim = 4\n",
    "epochs = 50\n",
    "\n",
    "embedding_dim = 10\n",
    "num_embeddings = 4\n",
    "beta = 0.25"
   ]
  },
  {
   "cell_type": "code",
   "execution_count": 8,
   "metadata": {},
   "outputs": [],
   "source": [
    "class Encoder(snt.Module):\n",
    "    def __init__(self, hdims, latent_dim, embedding_dim, name=None):\n",
    "        super(Encoder, self).__init__(name)\n",
    "        \n",
    "        self.hidden = []\n",
    "        for idx, hdim in enumerate(hdims):\n",
    "            layer_name = 'hidden{}'.format(idx)\n",
    "            self.hidden.append(snt.Linear(hdim, name=layer_name))\n",
    "        \n",
    "        self.z_e = snt.Linear(latent_dim*embedding_dim, name=layer_name)\n",
    "        \n",
    "    def __call__(self, x):\n",
    "        \n",
    "        # Run the input through the encoder network\n",
    "        for hidden_layer in self.hidden:\n",
    "            x = tf.nn.relu(hidden_layer(x))\n",
    "        \n",
    "        out_z_e = tf.reshape(self.z_e(x),[-1,latent_dim, embedding_dim])\n",
    "        \n",
    "        return {\n",
    "            'z_e': out_z_e\n",
    "        }"
   ]
  },
  {
   "cell_type": "code",
   "execution_count": 9,
   "metadata": {},
   "outputs": [],
   "source": [
    "enc = Encoder([intermediate_dim], latent_dim, embedding_dim)"
   ]
  },
  {
   "cell_type": "code",
   "execution_count": 10,
   "metadata": {},
   "outputs": [],
   "source": [
    "output = enc(is_train.astype(float))"
   ]
  },
  {
   "cell_type": "code",
   "execution_count": 11,
   "metadata": {},
   "outputs": [
    {
     "data": {
      "text/plain": [
       "<tf.Tensor: shape=(7999, 4, 10), dtype=float64, numpy=\n",
       "array([[[ 0.06490689,  0.32095812, -0.00262826, ..., -0.05759596,\n",
       "          0.29314043, -0.81679056],\n",
       "        [-0.44126815,  0.47272793,  0.77365208, ..., -0.41400583,\n",
       "         -0.09129907, -0.27639824],\n",
       "        [-0.17742458, -0.68920649,  0.27714234, ..., -0.79617607,\n",
       "         -0.27685784,  0.48264037],\n",
       "        [-1.1220101 ,  0.19078159,  0.38561117, ...,  0.41991296,\n",
       "          0.09116456,  0.50313307]],\n",
       "\n",
       "       [[ 0.21912848,  0.57274319, -0.55509676, ..., -0.35638224,\n",
       "          0.2681439 , -0.82980375],\n",
       "        [-0.22694154,  0.29776057,  0.50838117, ...,  0.00594199,\n",
       "         -0.14898569, -0.63305297],\n",
       "        [-0.49127568, -0.91273782,  0.53113012, ..., -1.35097515,\n",
       "         -0.52446256,  0.74365748],\n",
       "        [-0.73964469,  0.00978514,  0.28617415, ...,  0.13349464,\n",
       "          0.25310185,  0.46159246]],\n",
       "\n",
       "       [[ 0.25549741,  0.50671107, -0.65827513, ..., -0.40986468,\n",
       "          0.49605263, -0.80557862],\n",
       "        [-0.28296023,  0.26585811,  0.49952952, ..., -0.14696658,\n",
       "         -0.01130493, -0.80951846],\n",
       "        [-0.19639806, -0.94864441,  0.65525699, ..., -1.68405195,\n",
       "         -0.55017767,  1.02876498],\n",
       "        [-0.6028283 , -0.08301783,  0.53130152, ..., -0.09299135,\n",
       "          0.21295893,  0.46933313]],\n",
       "\n",
       "       ...,\n",
       "\n",
       "       [[-0.03511251,  0.34524681, -0.10982477, ..., -0.32522022,\n",
       "          0.26297792, -0.96012158],\n",
       "        [-0.47854001,  0.07224645,  0.78878273, ..., -0.50071894,\n",
       "          0.25906189, -0.60262744],\n",
       "        [-0.09378985, -0.88095285,  0.28977328, ..., -1.32765517,\n",
       "         -0.27500657,  0.98302947],\n",
       "        [-1.05591878, -0.06596714,  0.62533151, ...,  0.25864546,\n",
       "          0.31306506,  0.65782056]],\n",
       "\n",
       "       [[-0.53239017, -0.0637835 ,  0.50587149, ..., -0.20216484,\n",
       "          0.46341679,  0.35790652],\n",
       "        [ 0.0813519 , -0.0743942 ,  0.30693863, ..., -0.52144689,\n",
       "          0.25787711, -0.30866504],\n",
       "        [ 0.653966  , -0.27611073, -0.08130663, ..., -0.65409148,\n",
       "          0.09819891,  1.00787747],\n",
       "        [-0.18095022, -0.00364553,  0.34955866, ..., -0.00179775,\n",
       "          0.16456754,  0.64786355]],\n",
       "\n",
       "       [[-0.4221957 ,  0.30487982,  0.28655282, ..., -0.15463056,\n",
       "         -0.03879557, -0.46195575],\n",
       "        [-0.19730326, -0.19018835,  0.3076826 , ..., -0.45291329,\n",
       "          0.21231804, -0.28295033],\n",
       "        [ 0.26977694, -0.46657937, -0.20355505, ..., -0.86511086,\n",
       "          0.07182491,  0.76230398],\n",
       "        [-0.4128486 , -0.36245177,  0.23016334, ...,  0.14544508,\n",
       "          0.22252814,  0.84297024]]])>"
      ]
     },
     "execution_count": 11,
     "metadata": {},
     "output_type": "execute_result"
    }
   ],
   "source": [
    "output['z_e']"
   ]
  },
  {
   "cell_type": "code",
   "execution_count": 12,
   "metadata": {},
   "outputs": [
    {
     "data": {
      "text/plain": [
       "TensorShape([7999, 4, 10])"
      ]
     },
     "execution_count": 12,
     "metadata": {},
     "output_type": "execute_result"
    }
   ],
   "source": [
    "output['z_e'].shape"
   ]
  },
  {
   "cell_type": "code",
   "execution_count": 13,
   "metadata": {},
   "outputs": [],
   "source": [
    "quant = snt.nets.VectorQuantizer(embedding_dim, num_embeddings, beta, dtype=tf.float64)"
   ]
  },
  {
   "cell_type": "code",
   "execution_count": 14,
   "metadata": {},
   "outputs": [],
   "source": [
    "quant_output = quant(output['z_e'], True)"
   ]
  },
  {
   "cell_type": "code",
   "execution_count": 15,
   "metadata": {
    "scrolled": true
   },
   "outputs": [
    {
     "data": {
      "text/plain": [
       "{'quantize': <tf.Tensor: shape=(7999, 4, 10), dtype=float64, numpy=\n",
       " array([[[ 0.03911957,  0.23962866,  0.07728974, ..., -0.38322883,\n",
       "           0.35298682, -0.47797127],\n",
       "         [ 0.03911957,  0.23962866,  0.07728974, ..., -0.38322883,\n",
       "           0.35298682, -0.47797127],\n",
       "         [ 0.03911957,  0.23962866,  0.07728974, ..., -0.38322883,\n",
       "           0.35298682, -0.47797127],\n",
       "         [-0.43091474, -0.46174733, -0.36461951, ...,  0.10929408,\n",
       "           0.36472882,  0.00356547]],\n",
       " \n",
       "        [[ 0.03911957,  0.23962866,  0.07728974, ..., -0.38322883,\n",
       "           0.35298682, -0.47797127],\n",
       "         [ 0.03911957,  0.23962866,  0.07728974, ..., -0.38322883,\n",
       "           0.35298682, -0.47797127],\n",
       "         [ 0.03911957,  0.23962866,  0.07728974, ..., -0.38322883,\n",
       "           0.35298682, -0.47797127],\n",
       "         [-0.43091474, -0.46174733, -0.36461951, ...,  0.10929408,\n",
       "           0.36472882,  0.00356547]],\n",
       " \n",
       "        [[ 0.03911957,  0.23962866,  0.07728974, ..., -0.38322883,\n",
       "           0.35298682, -0.47797127],\n",
       "         [ 0.03911957,  0.23962866,  0.07728974, ..., -0.38322883,\n",
       "           0.35298682, -0.47797127],\n",
       "         [ 0.03911957,  0.23962866,  0.07728974, ..., -0.38322883,\n",
       "           0.35298682, -0.47797127],\n",
       "         [ 0.14975802,  0.40205002,  0.08871868, ..., -0.00214613,\n",
       "           0.02092343,  0.11153864]],\n",
       " \n",
       "        ...,\n",
       " \n",
       "        [[ 0.03911957,  0.23962866,  0.07728974, ..., -0.38322883,\n",
       "           0.35298682, -0.47797127],\n",
       "         [ 0.03911957,  0.23962866,  0.07728974, ..., -0.38322883,\n",
       "           0.35298682, -0.47797127],\n",
       "         [ 0.03911957,  0.23962866,  0.07728974, ..., -0.38322883,\n",
       "           0.35298682, -0.47797127],\n",
       "         [-0.43091474, -0.46174733, -0.36461951, ...,  0.10929408,\n",
       "           0.36472882,  0.00356547]],\n",
       " \n",
       "        [[-0.43091474, -0.46174733, -0.36461951, ...,  0.10929408,\n",
       "           0.36472882,  0.00356547],\n",
       "         [ 0.03911957,  0.23962866,  0.07728974, ..., -0.38322883,\n",
       "           0.35298682, -0.47797127],\n",
       "         [ 0.03911957,  0.23962866,  0.07728974, ..., -0.38322883,\n",
       "           0.35298682, -0.47797127],\n",
       "         [ 0.14975802,  0.40205002,  0.08871868, ..., -0.00214613,\n",
       "           0.02092343,  0.11153864]],\n",
       " \n",
       "        [[ 0.03911957,  0.23962866,  0.07728974, ..., -0.38322883,\n",
       "           0.35298682, -0.47797127],\n",
       "         [ 0.03911957,  0.23962866,  0.07728974, ..., -0.38322883,\n",
       "           0.35298682, -0.47797127],\n",
       "         [ 0.03911957,  0.23962866,  0.07728974, ..., -0.38322883,\n",
       "           0.35298682, -0.47797127],\n",
       "         [-0.43091474, -0.46174733, -0.36461951, ...,  0.10929408,\n",
       "           0.36472882,  0.00356547]]])>,\n",
       " 'loss': <tf.Tensor: shape=(), dtype=float64, numpy=0.2765914659923856>,\n",
       " 'perplexity': <tf.Tensor: shape=(), dtype=float32, numpy=3.1090484>,\n",
       " 'encodings': <tf.Tensor: shape=(31996, 4), dtype=float32, numpy=\n",
       " array([[0., 0., 1., 0.],\n",
       "        [0., 0., 1., 0.],\n",
       "        [0., 0., 1., 0.],\n",
       "        ...,\n",
       "        [0., 0., 1., 0.],\n",
       "        [0., 0., 1., 0.],\n",
       "        [0., 0., 0., 1.]], dtype=float32)>,\n",
       " 'encoding_indices': <tf.Tensor: shape=(7999, 4), dtype=int64, numpy=\n",
       " array([[2, 2, 2, 3],\n",
       "        [2, 2, 2, 3],\n",
       "        [2, 2, 2, 1],\n",
       "        ...,\n",
       "        [2, 2, 2, 3],\n",
       "        [3, 2, 2, 1],\n",
       "        [2, 2, 2, 3]])>,\n",
       " 'distances': <tf.Tensor: shape=(31996, 4), dtype=float64, numpy=\n",
       " array([[2.89717168, 3.63145003, 2.40496099, 3.29654601],\n",
       "        [4.01022569, 3.58614062, 2.90775577, 5.33645811],\n",
       "        [4.65042591, 4.88551555, 3.83112477, 6.47356961],\n",
       "        ...,\n",
       "        [3.71015226, 3.18405246, 2.07630098, 4.20497475],\n",
       "        [4.1858688 , 3.70018447, 3.1028642 , 4.49233823],\n",
       "        [2.49043017, 1.73357609, 3.63530737, 1.59705027]])>}"
      ]
     },
     "execution_count": 15,
     "metadata": {},
     "output_type": "execute_result"
    }
   ],
   "source": [
    "quant_output"
   ]
  },
  {
   "cell_type": "code",
   "execution_count": 16,
   "metadata": {},
   "outputs": [],
   "source": [
    "class Decoder(snt.Module):\n",
    "    def __init__(self, hdims, vdim, apply_sigmoid=False, name=None):\n",
    "        super(Decoder, self).__init__(name)\n",
    "        \n",
    "        self.apply_sigmoid = apply_sigmoid\n",
    "        \n",
    "        self.hidden = []\n",
    "        for idx, hdim in enumerate(hdims):\n",
    "            layer_name = 'hidden{}'.format(idx)\n",
    "            self.hidden.append(snt.Linear(hdim, name=layer_name))\n",
    "            \n",
    "        self.visible = snt.Linear(vdim, 'visible')\n",
    "        \n",
    "    def __call__(self, x):\n",
    "        \n",
    "        latent_dim = x.shape[1]\n",
    "        embedding_dim = x.shape[2]\n",
    "        x = tf.reshape(x, [-1, latent_dim*embedding_dim])\n",
    "        \n",
    "        for hidden_layer in self.hidden:\n",
    "            x = tf.nn.relu(hidden_layer(x))\n",
    "        \n",
    "        if self.apply_sigmoid:\n",
    "            output = tf.nn.sigmoid(self.visible(x))\n",
    "        else:\n",
    "            output = self.visible(x)\n",
    "        \n",
    "        return output"
   ]
  },
  {
   "cell_type": "code",
   "execution_count": 17,
   "metadata": {},
   "outputs": [],
   "source": [
    "def log_normal_pdf(sample, mean, logvar, raxis=1):\n",
    "    log2pi = tf.cast(tf.math.log(2. * np.pi), tf.float64)\n",
    "\n",
    "    return tf.reduce_sum(\n",
    "        -.5 * ((sample - mean) ** tf.cast(2., tf.float64) * tf.cast(tf.exp(-logvar), tf.float64) + logvar + log2pi),\n",
    "        axis=raxis)"
   ]
  },
  {
   "cell_type": "code",
   "execution_count": 18,
   "metadata": {},
   "outputs": [],
   "source": [
    "class VQVAE(snt.Module):\n",
    "    def __init__(self, encoder, quantizer, decoder, name=None):\n",
    "        super(VQVAE, self).__init__(name)\n",
    "        \n",
    "        self.encoder = encoder\n",
    "        self.quantizer = quantizer\n",
    "        self.decoder = decoder\n",
    "    \n",
    "    def __call__(self, x, is_training):\n",
    "        # Run the encoder and decoder\n",
    "        encoder_output = self.encoder(x)\n",
    "        quant_output = self.quantizer(encoder_output['z_e'], is_training)\n",
    "        x_recon = self.decoder(quant_output['quantize'])\n",
    "        \n",
    "        # Compute the loss function\n",
    "        cross_ent = tf.nn.sigmoid_cross_entropy_with_logits(logits=x_recon, labels=x)\n",
    "        log_pxz = -tf.reduce_sum(cross_ent, axis=1)\n",
    "        x_recon_loss = -tf.reduce_mean(log_pxz)\n",
    "        loss = x_recon_loss + quant_output['loss']\n",
    "        \n",
    "        return {\n",
    "            'x_recon': x_recon,\n",
    "            'x_recon_loss': x_recon_loss,\n",
    "            'loss': loss\n",
    "        }"
   ]
  },
  {
   "cell_type": "code",
   "execution_count": 19,
   "metadata": {},
   "outputs": [],
   "source": [
    "dec = Decoder([intermediate_dim], original_dim, True)"
   ]
  },
  {
   "cell_type": "code",
   "execution_count": 20,
   "metadata": {},
   "outputs": [],
   "source": [
    "out_vae = dec(quant_output['quantize'])"
   ]
  },
  {
   "cell_type": "code",
   "execution_count": 21,
   "metadata": {},
   "outputs": [
    {
     "data": {
      "text/plain": [
       "<tf.Tensor: shape=(7999, 10), dtype=float64, numpy=\n",
       "array([[0.49465135, 0.46049857, 0.52806901, ..., 0.53028163, 0.43210137,\n",
       "        0.59030813],\n",
       "       [0.49465135, 0.46049857, 0.52806901, ..., 0.53028163, 0.43210137,\n",
       "        0.59030813],\n",
       "       [0.50701811, 0.49700119, 0.54873792, ..., 0.52527428, 0.44169645,\n",
       "        0.56659727],\n",
       "       ...,\n",
       "       [0.49465135, 0.46049857, 0.52806901, ..., 0.53028163, 0.43210137,\n",
       "        0.59030813],\n",
       "       [0.50581306, 0.52110644, 0.46859938, ..., 0.49943901, 0.49537106,\n",
       "        0.48569845],\n",
       "       [0.49465135, 0.46049857, 0.52806901, ..., 0.53028163, 0.43210137,\n",
       "        0.59030813]])>"
      ]
     },
     "execution_count": 21,
     "metadata": {},
     "output_type": "execute_result"
    }
   ],
   "source": [
    "out_vae"
   ]
  },
  {
   "cell_type": "code",
   "execution_count": 22,
   "metadata": {},
   "outputs": [],
   "source": [
    "vqvae = VQVAE(enc, quant, dec)"
   ]
  },
  {
   "cell_type": "code",
   "execution_count": 23,
   "metadata": {},
   "outputs": [],
   "source": [
    "model_output = vqvae(is_test.astype(float), False)"
   ]
  },
  {
   "cell_type": "code",
   "execution_count": 24,
   "metadata": {},
   "outputs": [
    {
     "data": {
      "text/plain": [
       "{'x_recon': <tf.Tensor: shape=(1999, 10), dtype=float64, numpy=\n",
       " array([[0.49487553, 0.56760153, 0.52814549, ..., 0.52109625, 0.49074797,\n",
       "         0.53544014],\n",
       "        [0.50701811, 0.49700119, 0.54873792, ..., 0.52527428, 0.44169645,\n",
       "         0.56659727],\n",
       "        [0.53315666, 0.53817374, 0.50713943, ..., 0.48416179, 0.48606323,\n",
       "         0.53991081],\n",
       "        ...,\n",
       "        [0.49465135, 0.46049857, 0.52806901, ..., 0.53028163, 0.43210137,\n",
       "         0.59030813],\n",
       "        [0.5145187 , 0.54100779, 0.44556952, ..., 0.46407383, 0.48825195,\n",
       "         0.44169261],\n",
       "        [0.50701811, 0.49700119, 0.54873792, ..., 0.52527428, 0.44169645,\n",
       "         0.56659727]])>,\n",
       " 'x_recon_loss': <tf.Tensor: shape=(), dtype=float64, numpy=7.263240560010053>,\n",
       " 'loss': <tf.Tensor: shape=(), dtype=float64, numpy=7.538617642491322>}"
      ]
     },
     "execution_count": 24,
     "metadata": {},
     "output_type": "execute_result"
    }
   ],
   "source": [
    "model_output"
   ]
  },
  {
   "cell_type": "markdown",
   "metadata": {},
   "source": [
    "## Training"
   ]
  },
  {
   "cell_type": "code",
   "execution_count": 25,
   "metadata": {},
   "outputs": [],
   "source": [
    "#@title Utility function to show progress bar.\n",
    "from tqdm import tqdm\n",
    "\n",
    "num_meas = is_train.shape[0]\n",
    "\n",
    "def progress_bar(generator):\n",
    "  return tqdm(\n",
    "      generator,\n",
    "      unit='measurements',\n",
    "      unit_scale=batch_size,\n",
    "      total=(num_meas // batch_size) * epochs)"
   ]
  },
  {
   "cell_type": "code",
   "execution_count": 43,
   "metadata": {},
   "outputs": [],
   "source": [
    "# network parameters\n",
    "learning_rate = 3e-4\n",
    "input_shape = (original_dim, )\n",
    "batch_size = 128\n",
    "epochs = 50\n",
    "\n",
    "# F = 0.9322 (continuous)\n",
    "#intermediate_dim = [500, 500]\n",
    "#latent_dim = 10\n",
    "\n",
    "# F = 0.9255 (continuous)\n",
    "#intermediate_dim = [100]\n",
    "#latent_dim = 4\n",
    "\n",
    "# F = 0.9080\n",
    "intermediate_dim = [100]\n",
    "latent_dim = 2\n",
    "embedding_dim = 10\n",
    "num_embeddings = 11\n",
    "beta = 0.25\n",
    "\n",
    "optimizer = snt.optimizers.Adam(learning_rate=learning_rate)\n",
    "\n",
    "enc = Encoder(intermediate_dim, latent_dim, embedding_dim)\n",
    "quant = snt.nets.VectorQuantizer(embedding_dim, num_embeddings, beta, dtype=tf.float64)\n",
    "dec = Decoder(intermediate_dim, original_dim, apply_sigmoid=False)\n",
    "vqvae = VQVAE(enc, quant, dec)\n",
    "\n",
    "@tf.function\n",
    "def train_step(data):\n",
    "    with tf.GradientTape() as tape:\n",
    "        model_output = vqvae(tf.cast(data, tf.float64), True)\n",
    "    \n",
    "    trainable_variables = vqvae.trainable_variables\n",
    "    grads = tape.gradient(model_output['loss'], trainable_variables)\n",
    "    optimizer.apply(grads, trainable_variables)\n",
    "    \n",
    "    return model_output"
   ]
  },
  {
   "cell_type": "code",
   "execution_count": 44,
   "metadata": {},
   "outputs": [],
   "source": [
    "# Get data sliced for SGD\n",
    "train_dataset = (\n",
    "    tf.data.Dataset.from_tensor_slices(is_train)\n",
    "    .shuffle(1000)\n",
    "    .repeat(-1)  # repeat indefinitely\n",
    "    .batch(batch_size, drop_remainder=True)\n",
    "    .prefetch(-1))\n",
    "\n",
    "valid_dataset = (\n",
    "    tf.data.Dataset.from_tensor_slices(is_test)\n",
    "    .repeat(1)  # 1 epoch\n",
    "    .batch(batch_size)\n",
    "    .prefetch(-1))"
   ]
  },
  {
   "cell_type": "code",
   "execution_count": 45,
   "metadata": {
    "scrolled": true
   },
   "outputs": [
    {
     "name": "stdout",
     "output_type": "stream",
     "text": [
      "100 loss: 6.897026 recon loss: 6.629003\n",
      "200 loss: 7.187538 recon loss: 5.878361\n",
      "300 loss: 8.627937 recon loss: 5.242890\n",
      "400 loss: 9.659221 recon loss: 4.784660\n",
      "500 loss: 10.781037 recon loss: 4.202626\n",
      "600 loss: 13.040941 recon loss: 3.786712\n",
      "700 loss: 14.307596 recon loss: 3.546335\n",
      "800 loss: 15.724627 recon loss: 3.374083\n",
      "900 loss: 17.253974 recon loss: 3.268934\n",
      "1000 loss: 18.308150 recon loss: 3.170133\n",
      "1100 loss: 19.338067 recon loss: 3.106248\n",
      "1200 loss: 20.586308 recon loss: 3.005215\n",
      "1300 loss: 21.631978 recon loss: 2.872701\n",
      "1400 loss: 22.527809 recon loss: 2.792553\n",
      "1500 loss: 23.679648 recon loss: 2.725710\n",
      "1600 loss: 24.995680 recon loss: 2.652191\n",
      "1700 loss: 26.313008 recon loss: 2.601302\n",
      "1800 loss: 27.564631 recon loss: 2.541669\n",
      "1900 loss: 28.298667 recon loss: 2.500237\n",
      "2000 loss: 29.115850 recon loss: 2.453756\n",
      "2100 loss: 30.062607 recon loss: 2.417215\n",
      "2200 loss: 30.850332 recon loss: 2.401689\n",
      "2300 loss: 31.454307 recon loss: 2.333796\n",
      "2400 loss: 32.377945 recon loss: 2.306098\n",
      "2500 loss: 32.968937 recon loss: 2.273741\n",
      "2600 loss: 33.425879 recon loss: 2.223244\n",
      "2700 loss: 33.860979 recon loss: 2.217949\n",
      "2800 loss: 34.238671 recon loss: 2.162034\n",
      "2900 loss: 34.772987 recon loss: 2.141963\n",
      "3000 loss: 35.208689 recon loss: 2.139785\n",
      "3100 loss: 35.837196 recon loss: 2.121326\n",
      "3200 loss: 36.380998 recon loss: 2.124037\n",
      "3300 loss: 36.914808 recon loss: 2.103421\n",
      "3400 loss: 37.530117 recon loss: 2.101565\n",
      "3500 loss: 37.788287 recon loss: 2.089258\n",
      "3600 loss: 38.188368 recon loss: 2.065254\n",
      "3700 loss: 38.461469 recon loss: 2.058522\n",
      "3800 loss: 38.930285 recon loss: 2.039261\n",
      "3900 loss: 39.090833 recon loss: 2.030940\n",
      "4000 loss: 39.525965 recon loss: 2.019858\n",
      "4100 loss: 40.030870 recon loss: 2.008281\n",
      "4200 loss: 40.234833 recon loss: 1.990976\n",
      "4300 loss: 40.985397 recon loss: 1.997245\n",
      "4400 loss: 41.355148 recon loss: 1.987688\n",
      "4500 loss: 41.824571 recon loss: 1.972949\n",
      "4600 loss: 42.552873 recon loss: 1.969915\n",
      "4700 loss: 42.835254 recon loss: 1.944881\n",
      "4800 loss: 43.623950 recon loss: 1.921807\n",
      "4900 loss: 44.083234 recon loss: 1.908166\n",
      "5000 loss: 44.488510 recon loss: 1.897604\n",
      "5100 loss: 45.154078 recon loss: 1.896475\n",
      "5200 loss: 45.370145 recon loss: 1.895852\n",
      "5300 loss: 45.897735 recon loss: 1.903902\n",
      "5400 loss: 45.930581 recon loss: 1.891716\n",
      "5500 loss: 46.165012 recon loss: 1.907361\n",
      "5600 loss: 46.581921 recon loss: 1.900926\n",
      "5700 loss: 46.682141 recon loss: 1.912678\n",
      "5800 loss: 46.742766 recon loss: 1.898657\n",
      "5900 loss: 47.233909 recon loss: 1.899316\n",
      "6000 loss: 47.178676 recon loss: 1.895220\n",
      "6100 loss: 47.539853 recon loss: 1.889285\n",
      "6200 loss: 47.450102 recon loss: 1.870582\n",
      "6300 loss: 47.472857 recon loss: 1.860656\n",
      "6400 loss: 47.745110 recon loss: 1.870419\n",
      "6500 loss: 47.538845 recon loss: 1.846599\n",
      "6600 loss: 47.664327 recon loss: 1.837067\n",
      "6700 loss: 47.375864 recon loss: 1.826557\n",
      "6800 loss: 47.405823 recon loss: 1.825045\n",
      "6900 loss: 47.238340 recon loss: 1.815745\n",
      "7000 loss: 46.797653 recon loss: 1.807187\n",
      "7100 loss: 46.387510 recon loss: 1.785097\n",
      "7200 loss: 45.830594 recon loss: 1.783779\n",
      "7300 loss: 45.284925 recon loss: 1.771872\n",
      "7400 loss: 45.023558 recon loss: 1.765423\n",
      "7500 loss: 44.588911 recon loss: 1.760926\n",
      "7600 loss: 44.508907 recon loss: 1.757084\n",
      "7700 loss: 44.052834 recon loss: 1.752948\n",
      "7800 loss: 43.638191 recon loss: 1.752236\n",
      "7900 loss: 43.348145 recon loss: 1.749720\n",
      "8000 loss: 43.001663 recon loss: 1.752894\n",
      "8100 loss: 42.636215 recon loss: 1.729689\n",
      "8200 loss: 42.166535 recon loss: 1.718495\n",
      "8300 loss: 41.968072 recon loss: 1.715791\n",
      "8400 loss: 41.594689 recon loss: 1.720467\n",
      "8500 loss: 41.286307 recon loss: 1.713672\n",
      "8600 loss: 41.252756 recon loss: 1.701550\n",
      "8700 loss: 40.746515 recon loss: 1.681768\n",
      "8800 loss: 40.470503 recon loss: 1.664654\n",
      "8900 loss: 39.937095 recon loss: 1.650174\n",
      "9000 loss: 39.653194 recon loss: 1.652856\n",
      "9100 loss: 39.341547 recon loss: 1.633337\n",
      "9200 loss: 38.900201 recon loss: 1.617654\n",
      "9300 loss: 38.520869 recon loss: 1.613151\n",
      "9400 loss: 38.082129 recon loss: 1.605935\n",
      "9500 loss: 37.716988 recon loss: 1.598047\n",
      "9600 loss: 37.404608 recon loss: 1.598150\n",
      "9700 loss: 37.157114 recon loss: 1.600454\n",
      "9800 loss: 36.699578 recon loss: 1.584229\n",
      "9900 loss: 36.516656 recon loss: 1.586445\n",
      "10000 loss: 36.146923 recon loss: 1.586876\n",
      "10100 loss: 35.866889 recon loss: 1.571142\n",
      "10200 loss: 35.428075 recon loss: 1.568512\n",
      "10300 loss: 35.224932 recon loss: 1.563450\n",
      "10400 loss: 34.863203 recon loss: 1.553643\n",
      "10500 loss: 34.560551 recon loss: 1.569768\n",
      "10600 loss: 34.258186 recon loss: 1.549427\n",
      "10700 loss: 34.036472 recon loss: 1.561646\n",
      "10800 loss: 33.743403 recon loss: 1.537839\n",
      "10900 loss: 33.391475 recon loss: 1.544962\n",
      "11000 loss: 33.324964 recon loss: 1.535079\n",
      "11100 loss: 33.121700 recon loss: 1.526583\n",
      "11200 loss: 32.814089 recon loss: 1.525531\n",
      "11300 loss: 32.736944 recon loss: 1.526201\n",
      "11400 loss: 32.605673 recon loss: 1.522217\n",
      "11500 loss: 32.471967 recon loss: 1.518826\n",
      "11600 loss: 32.342535 recon loss: 1.527876\n",
      "11700 loss: 32.349544 recon loss: 1.558263\n",
      "11800 loss: 32.112700 recon loss: 1.538014\n",
      "11900 loss: 32.017854 recon loss: 1.534728\n",
      "12000 loss: 31.946374 recon loss: 1.536585\n",
      "12100 loss: 31.727546 recon loss: 1.525033\n",
      "12200 loss: 31.574053 recon loss: 1.523725\n",
      "12300 loss: 31.326558 recon loss: 1.514452\n",
      "12400 loss: 31.201867 recon loss: 1.513223\n",
      "12500 loss: 31.192712 recon loss: 1.509429\n",
      "12600 loss: 30.840422 recon loss: 1.499887\n",
      "12700 loss: 30.750372 recon loss: 1.504470\n",
      "12800 loss: 30.634186 recon loss: 1.507398\n",
      "12900 loss: 30.477464 recon loss: 1.517876\n",
      "13000 loss: 30.551986 recon loss: 1.518481\n",
      "13100 loss: 30.462212 recon loss: 1.508921\n",
      "13200 loss: 30.340478 recon loss: 1.503917\n",
      "13300 loss: 30.288362 recon loss: 1.494277\n",
      "13400 loss: 30.091946 recon loss: 1.496781\n",
      "13500 loss: 29.994761 recon loss: 1.512515\n",
      "13600 loss: 29.900019 recon loss: 1.501495\n",
      "13700 loss: 29.735483 recon loss: 1.489874\n",
      "13800 loss: 29.712679 recon loss: 1.483668\n",
      "13900 loss: 29.476232 recon loss: 1.473397\n",
      "14000 loss: 29.614328 recon loss: 1.481106\n",
      "14100 loss: 29.520414 recon loss: 1.477690\n",
      "14200 loss: 29.609446 recon loss: 1.492924\n",
      "14300 loss: 29.359063 recon loss: 1.479749\n",
      "14400 loss: 29.141260 recon loss: 1.486543\n",
      "14500 loss: 29.286372 recon loss: 1.500040\n",
      "14600 loss: 29.169314 recon loss: 1.486828\n",
      "14700 loss: 29.152472 recon loss: 1.497837\n",
      "14800 loss: 29.057660 recon loss: 1.455475\n",
      "14900 loss: 28.895761 recon loss: 1.466686\n",
      "15000 loss: 28.642807 recon loss: 1.440752\n",
      "15100 loss: 28.493937 recon loss: 1.445266\n",
      "15200 loss: 28.285220 recon loss: 1.456451\n",
      "15300 loss: 28.203302 recon loss: 1.443047\n",
      "15400 loss: 27.912554 recon loss: 1.438618\n",
      "15500 loss: 27.800757 recon loss: 1.426406\n",
      "15600 loss: 27.744165 recon loss: 1.420916\n",
      "15700 loss: 27.383192 recon loss: 1.405105\n",
      "15800 loss: 27.399982 recon loss: 1.415296\n",
      "15900 loss: 27.156783 recon loss: 1.430535\n",
      "16000 loss: 27.138906 recon loss: 1.412590\n",
      "16100 loss: 27.005074 recon loss: 1.406937\n",
      "16200 loss: 27.093721 recon loss: 1.415937\n",
      "16300 loss: 27.143986 recon loss: 1.413280\n",
      "16400 loss: 27.170568 recon loss: 1.420396\n",
      "16500 loss: 27.167298 recon loss: 1.419104\n",
      "16600 loss: 27.219465 recon loss: 1.421068\n",
      "16700 loss: 27.036132 recon loss: 1.419007\n",
      "16800 loss: 27.166209 recon loss: 1.419756\n",
      "16900 loss: 26.958743 recon loss: 1.416136\n",
      "17000 loss: 27.010377 recon loss: 1.418829\n",
      "17100 loss: 26.903688 recon loss: 1.417073\n",
      "17200 loss: 26.860519 recon loss: 1.407818\n",
      "17300 loss: 26.907998 recon loss: 1.407956\n",
      "17400 loss: 26.690828 recon loss: 1.400092\n",
      "17500 loss: 26.829178 recon loss: 1.427187\n",
      "17600 loss: 26.745788 recon loss: 1.413500\n",
      "17700 loss: 26.681678 recon loss: 1.403864\n",
      "17800 loss: 26.832940 recon loss: 1.413601\n",
      "17900 loss: 26.778759 recon loss: 1.411514\n",
      "18000 loss: 26.701342 recon loss: 1.407426\n",
      "18100 loss: 26.733177 recon loss: 1.406766\n",
      "18200 loss: 26.674431 recon loss: 1.415173\n",
      "18300 loss: 26.661460 recon loss: 1.407318\n",
      "18400 loss: 26.656567 recon loss: 1.409554\n",
      "18500 loss: 26.564758 recon loss: 1.406552\n",
      "18600 loss: 26.542695 recon loss: 1.411770\n",
      "18700 loss: 26.529866 recon loss: 1.396750\n",
      "18800 loss: 26.621873 recon loss: 1.409024\n",
      "18900 loss: 26.368385 recon loss: 1.396847\n",
      "19000 loss: 26.437420 recon loss: 1.414468\n",
      "19100 loss: 26.283004 recon loss: 1.436754\n",
      "19200 loss: 26.184057 recon loss: 1.439563\n",
      "19300 loss: 25.992357 recon loss: 1.419875\n",
      "19400 loss: 25.687745 recon loss: 1.404578\n"
     ]
    },
    {
     "name": "stdout",
     "output_type": "stream",
     "text": [
      "19500 loss: 25.547898 recon loss: 1.403822\n",
      "19600 loss: 25.316496 recon loss: 1.410056\n",
      "19700 loss: 25.071679 recon loss: 1.416237\n",
      "19800 loss: 24.705669 recon loss: 1.397105\n",
      "19900 loss: 24.474607 recon loss: 1.400039\n",
      "20000 loss: 24.049014 recon loss: 1.388269\n"
     ]
    }
   ],
   "source": [
    "# Train\n",
    "num_training_updates = 20000\n",
    "\n",
    "train_losses = []\n",
    "recon_losses = []\n",
    "for step_index, data in enumerate(train_dataset):\n",
    "    train_results = train_step(data)\n",
    "    train_losses.append(train_results['loss'])\n",
    "    recon_losses.append(train_results['x_recon_loss'])\n",
    "    \n",
    "    if (step_index + 1) % 100 == 0:\n",
    "        print('%d loss: %f recon loss: %f' % (step_index+1, np.mean(train_losses[-100:]), np.mean(recon_losses[-100:])))\n",
    "        \n",
    "    if (step_index + 1) % num_training_updates == 0:\n",
    "        break"
   ]
  },
  {
   "cell_type": "code",
   "execution_count": 46,
   "metadata": {},
   "outputs": [
    {
     "name": "stdout",
     "output_type": "stream",
     "text": [
      "{'x_recon': <tf.Tensor: shape=(1999, 10), dtype=float64, numpy=\n",
      "array([[ 12.31866099,  -4.79606024,  -9.7049797 , ...,  -6.83148732,\n",
      "        -10.1863457 ,  -6.77103136],\n",
      "       [ 14.52744819,   1.95446454,   0.72390414, ...,   2.18414654,\n",
      "         24.52757937,   5.47527183],\n",
      "       [  7.55395311,  -1.3842059 ,  -0.74049081, ...,  -3.17178538,\n",
      "         11.24057215, -19.73339099],\n",
      "       ...,\n",
      "       [  9.3891657 ,  -4.61758927,  -7.3913665 , ...,   6.32081079,\n",
      "          2.28054951,  19.16069651],\n",
      "       [ 14.18767357,  10.40178274,  11.53290977, ...,  -2.06430933,\n",
      "        -10.86926885,  -7.11388791],\n",
      "       [  8.43226608,   0.96850759,   4.27520729, ...,   1.65655511,\n",
      "        -21.75641288,  -3.96428666]])>, 'x_recon_loss': <tf.Tensor: shape=(), dtype=float64, numpy=1.5545598485415124>, 'loss': <tf.Tensor: shape=(), dtype=float64, numpy=25.359089635058993>}\n"
     ]
    }
   ],
   "source": [
    "# Look at validation set\n",
    "model_output = vqvae(is_test.astype(float), False)\n",
    "print(model_output)"
   ]
  },
  {
   "cell_type": "markdown",
   "metadata": {},
   "source": [
    "# Train The Prior"
   ]
  },
  {
   "cell_type": "code",
   "execution_count": 47,
   "metadata": {},
   "outputs": [],
   "source": [
    "sys.path.append('models')\n",
    "import vae"
   ]
  },
  {
   "cell_type": "code",
   "execution_count": 51,
   "metadata": {},
   "outputs": [],
   "source": [
    "# Run the training set through the trained encoder and quantizer\n",
    "encoder_output = vqvae.encoder(tf.cast(is_train, dtype=tf.dtypes.float64))\n",
    "quant_output = vqvae.quantizer(encoder_output['z_e'], False)\n",
    "prior_train = quant_output['encoding_indices']"
   ]
  },
  {
   "cell_type": "code",
   "execution_count": 52,
   "metadata": {},
   "outputs": [],
   "source": [
    "# Run the test set through the trained encoder and quantizer\n",
    "encoder_output = vqvae.encoder(tf.cast(is_test, dtype=tf.dtypes.float64))\n",
    "quant_output = vqvae.quantizer(encoder_output['z_e'], False)\n",
    "prior_test = quant_output['encoding_indices']"
   ]
  },
  {
   "cell_type": "code",
   "execution_count": 53,
   "metadata": {},
   "outputs": [],
   "source": [
    "# Get data sliced for SGD\n",
    "train_dataset = (\n",
    "    tf.data.Dataset.from_tensor_slices(prior_train)\n",
    "    .shuffle(1000)\n",
    "    .repeat(-1)  # repeat indefinitely\n",
    "    .batch(batch_size, drop_remainder=True)\n",
    "    .prefetch(-1))\n",
    "\n",
    "valid_dataset = (\n",
    "    tf.data.Dataset.from_tensor_slices(prior_test)\n",
    "    .repeat(1)  # 1 epoch\n",
    "    .batch(batch_size)\n",
    "    .prefetch(-1))"
   ]
  },
  {
   "cell_type": "code",
   "execution_count": 54,
   "metadata": {},
   "outputs": [],
   "source": [
    "# Use the quantized training set to train a new CatVAE\n",
    "\n",
    "# network parameters\n",
    "depth = num_embeddings\n",
    "\n",
    "# F = 0.9322\n",
    "#intermediate_dim = [500, 500]\n",
    "#latent_dim = 10\n",
    "\n",
    "# F = 0.9255\n",
    "#intermediate_dim = [100]\n",
    "#latent_dim = 4\n",
    "\n",
    "# F = 0.8989\n",
    "prior_intermediate_dim = [100]\n",
    "prior_latent_dim = 2\n",
    "\n",
    "optimizer = snt.optimizers.Adam(learning_rate=learning_rate)\n",
    "\n",
    "enc = vae.CatEncoder(prior_intermediate_dim, prior_latent_dim, depth)\n",
    "dec = vae.CatDecoder(prior_intermediate_dim, latent_dim, depth)\n",
    "catvae = vae.CatVAE(enc, dec)\n",
    "\n",
    "@tf.function\n",
    "def prior_train_step(data):\n",
    "    with tf.GradientTape() as tape:\n",
    "        model_output = catvae(tf.cast(data, tf.int32))\n",
    "    \n",
    "    trainable_variables = catvae.trainable_variables\n",
    "    grads = tape.gradient(model_output['loss'], trainable_variables)\n",
    "    optimizer.apply(grads, trainable_variables)\n",
    "    \n",
    "    return model_output"
   ]
  },
  {
   "cell_type": "code",
   "execution_count": 55,
   "metadata": {},
   "outputs": [
    {
     "name": "stdout",
     "output_type": "stream",
     "text": [
      "100 loss: 4.786425 recon loss: 4.750347\n",
      "200 loss: 4.571550 recon loss: 4.543808\n",
      "300 loss: 4.548227 recon loss: 4.515097\n",
      "400 loss: 4.521246 recon loss: 4.470695\n",
      "500 loss: 4.509253 recon loss: 4.438515\n",
      "600 loss: 4.498761 recon loss: 4.397486\n",
      "700 loss: 4.467043 recon loss: 4.324600\n",
      "800 loss: 4.445143 recon loss: 4.231230\n",
      "900 loss: 4.406083 recon loss: 4.104348\n",
      "1000 loss: 4.384161 recon loss: 4.013093\n",
      "1100 loss: 4.361784 recon loss: 3.935763\n",
      "1200 loss: 4.351132 recon loss: 3.889733\n",
      "1300 loss: 4.334208 recon loss: 3.833026\n",
      "1400 loss: 4.329292 recon loss: 3.807965\n",
      "1500 loss: 4.318402 recon loss: 3.777065\n",
      "1600 loss: 4.316991 recon loss: 3.756959\n",
      "1700 loss: 4.311509 recon loss: 3.741301\n",
      "1800 loss: 4.309892 recon loss: 3.724164\n",
      "1900 loss: 4.302194 recon loss: 3.702677\n",
      "2000 loss: 4.303265 recon loss: 3.685573\n",
      "2100 loss: 4.301583 recon loss: 3.680858\n",
      "2200 loss: 4.297765 recon loss: 3.658728\n",
      "2300 loss: 4.297148 recon loss: 3.653062\n",
      "2400 loss: 4.294237 recon loss: 3.644850\n",
      "2500 loss: 4.290600 recon loss: 3.631998\n",
      "2600 loss: 4.287823 recon loss: 3.617754\n",
      "2700 loss: 4.290323 recon loss: 3.612689\n",
      "2800 loss: 4.288449 recon loss: 3.605622\n",
      "2900 loss: 4.285004 recon loss: 3.594367\n",
      "3000 loss: 4.284997 recon loss: 3.589776\n",
      "3100 loss: 4.288435 recon loss: 3.585138\n",
      "3200 loss: 4.279681 recon loss: 3.569831\n",
      "3300 loss: 4.283510 recon loss: 3.572084\n",
      "3400 loss: 4.279331 recon loss: 3.559370\n",
      "3500 loss: 4.278852 recon loss: 3.550395\n",
      "3600 loss: 4.280508 recon loss: 3.555416\n",
      "3700 loss: 4.280812 recon loss: 3.557527\n",
      "3800 loss: 4.273033 recon loss: 3.530620\n",
      "3900 loss: 4.281427 recon loss: 3.539740\n",
      "4000 loss: 4.273091 recon loss: 3.533654\n",
      "4100 loss: 4.275184 recon loss: 3.527830\n",
      "4200 loss: 4.270499 recon loss: 3.521796\n",
      "4300 loss: 4.272037 recon loss: 3.506887\n",
      "4400 loss: 4.269381 recon loss: 3.511486\n",
      "4500 loss: 4.273377 recon loss: 3.501542\n",
      "4600 loss: 4.269844 recon loss: 3.505918\n",
      "4700 loss: 4.267940 recon loss: 3.496506\n",
      "4800 loss: 4.269700 recon loss: 3.498237\n",
      "4900 loss: 4.270873 recon loss: 3.489760\n",
      "5000 loss: 4.265880 recon loss: 3.472367\n",
      "5100 loss: 4.274442 recon loss: 3.492275\n",
      "5200 loss: 4.264098 recon loss: 3.466069\n",
      "5300 loss: 4.266684 recon loss: 3.476641\n",
      "5400 loss: 4.265524 recon loss: 3.464066\n",
      "5500 loss: 4.266837 recon loss: 3.455532\n",
      "5600 loss: 4.265361 recon loss: 3.474585\n",
      "5700 loss: 4.265179 recon loss: 3.446655\n",
      "5800 loss: 4.263588 recon loss: 3.450023\n",
      "5900 loss: 4.264712 recon loss: 3.449832\n",
      "6000 loss: 4.262342 recon loss: 3.433819\n",
      "6100 loss: 4.265108 recon loss: 3.440008\n",
      "6200 loss: 4.262116 recon loss: 3.433611\n",
      "6300 loss: 4.258964 recon loss: 3.433577\n",
      "6400 loss: 4.263106 recon loss: 3.437962\n",
      "6500 loss: 4.262616 recon loss: 3.429904\n",
      "6600 loss: 4.257361 recon loss: 3.413651\n",
      "6700 loss: 4.262519 recon loss: 3.429129\n",
      "6800 loss: 4.263254 recon loss: 3.426895\n",
      "6900 loss: 4.262787 recon loss: 3.411689\n",
      "7000 loss: 4.255411 recon loss: 3.418697\n",
      "7100 loss: 4.263819 recon loss: 3.413898\n",
      "7200 loss: 4.257247 recon loss: 3.408756\n",
      "7300 loss: 4.259654 recon loss: 3.405542\n",
      "7400 loss: 4.261688 recon loss: 3.416423\n",
      "7500 loss: 4.256845 recon loss: 3.391722\n",
      "7600 loss: 4.262121 recon loss: 3.401159\n",
      "7700 loss: 4.256543 recon loss: 3.397013\n",
      "7800 loss: 4.255062 recon loss: 3.397377\n",
      "7900 loss: 4.260690 recon loss: 3.391652\n",
      "8000 loss: 4.259291 recon loss: 3.397744\n",
      "8100 loss: 4.261374 recon loss: 3.395493\n",
      "8200 loss: 4.252599 recon loss: 3.375471\n",
      "8300 loss: 4.254839 recon loss: 3.380446\n",
      "8400 loss: 4.260775 recon loss: 3.393957\n",
      "8500 loss: 4.255050 recon loss: 3.369577\n",
      "8600 loss: 4.256597 recon loss: 3.375393\n",
      "8700 loss: 4.255584 recon loss: 3.376239\n",
      "8800 loss: 4.254403 recon loss: 3.373936\n",
      "8900 loss: 4.249018 recon loss: 3.371638\n",
      "9000 loss: 4.258495 recon loss: 3.371436\n",
      "9100 loss: 4.253294 recon loss: 3.369668\n",
      "9200 loss: 4.253305 recon loss: 3.359820\n",
      "9300 loss: 4.254514 recon loss: 3.365619\n",
      "9400 loss: 4.252788 recon loss: 3.344899\n",
      "9500 loss: 4.256708 recon loss: 3.367652\n",
      "9600 loss: 4.252370 recon loss: 3.352034\n",
      "9700 loss: 4.254134 recon loss: 3.370311\n",
      "9800 loss: 4.254765 recon loss: 3.359529\n",
      "9900 loss: 4.249084 recon loss: 3.352855\n",
      "10000 loss: 4.251680 recon loss: 3.343882\n",
      "10100 loss: 4.257008 recon loss: 3.361062\n",
      "10200 loss: 4.253947 recon loss: 3.350878\n",
      "10300 loss: 4.248203 recon loss: 3.335224\n",
      "10400 loss: 4.255119 recon loss: 3.344686\n",
      "10500 loss: 4.249771 recon loss: 3.340715\n",
      "10600 loss: 4.254972 recon loss: 3.352525\n",
      "10700 loss: 4.249153 recon loss: 3.337205\n",
      "10800 loss: 4.253235 recon loss: 3.338054\n",
      "10900 loss: 4.254910 recon loss: 3.338187\n",
      "11000 loss: 4.248847 recon loss: 3.335065\n",
      "11100 loss: 4.249539 recon loss: 3.341881\n",
      "11200 loss: 4.249887 recon loss: 3.328622\n",
      "11300 loss: 4.251338 recon loss: 3.327805\n",
      "11400 loss: 4.247712 recon loss: 3.331931\n",
      "11500 loss: 4.250662 recon loss: 3.321174\n",
      "11600 loss: 4.249238 recon loss: 3.323462\n",
      "11700 loss: 4.253456 recon loss: 3.327764\n",
      "11800 loss: 4.243273 recon loss: 3.304555\n",
      "11900 loss: 4.254211 recon loss: 3.318850\n",
      "12000 loss: 4.247282 recon loss: 3.317551\n",
      "12100 loss: 4.245867 recon loss: 3.312584\n",
      "12200 loss: 4.251764 recon loss: 3.311583\n",
      "12300 loss: 4.249168 recon loss: 3.321208\n",
      "12400 loss: 4.246572 recon loss: 3.302577\n",
      "12500 loss: 4.248045 recon loss: 3.303978\n",
      "12600 loss: 4.251946 recon loss: 3.315232\n",
      "12700 loss: 4.245563 recon loss: 3.311566\n",
      "12800 loss: 4.248333 recon loss: 3.298678\n",
      "12900 loss: 4.249546 recon loss: 3.303572\n",
      "13000 loss: 4.247551 recon loss: 3.307776\n",
      "13100 loss: 4.250024 recon loss: 3.314075\n",
      "13200 loss: 4.246732 recon loss: 3.298627\n",
      "13300 loss: 4.242611 recon loss: 3.296686\n",
      "13400 loss: 4.251114 recon loss: 3.312263\n",
      "13500 loss: 4.244971 recon loss: 3.291486\n",
      "13600 loss: 4.252301 recon loss: 3.306014\n",
      "13700 loss: 4.243687 recon loss: 3.286032\n",
      "13800 loss: 4.242322 recon loss: 3.304462\n",
      "13900 loss: 4.251363 recon loss: 3.302580\n",
      "14000 loss: 4.248202 recon loss: 3.295701\n",
      "14100 loss: 4.248869 recon loss: 3.287462\n",
      "14200 loss: 4.246984 recon loss: 3.292146\n",
      "14300 loss: 4.244993 recon loss: 3.287257\n",
      "14400 loss: 4.248755 recon loss: 3.294068\n",
      "14500 loss: 4.246822 recon loss: 3.286324\n",
      "14600 loss: 4.249025 recon loss: 3.288099\n",
      "14700 loss: 4.243363 recon loss: 3.278521\n",
      "14800 loss: 4.246663 recon loss: 3.285383\n",
      "14900 loss: 4.242359 recon loss: 3.282592\n",
      "15000 loss: 4.244350 recon loss: 3.276234\n",
      "15100 loss: 4.247700 recon loss: 3.285854\n",
      "15200 loss: 4.247181 recon loss: 3.283487\n",
      "15300 loss: 4.238859 recon loss: 3.266424\n",
      "15400 loss: 4.248684 recon loss: 3.290956\n",
      "15500 loss: 4.246043 recon loss: 3.270776\n",
      "15600 loss: 4.247756 recon loss: 3.282751\n",
      "15700 loss: 4.243368 recon loss: 3.273711\n",
      "15800 loss: 4.247423 recon loss: 3.259955\n",
      "15900 loss: 4.238421 recon loss: 3.274927\n",
      "16000 loss: 4.246408 recon loss: 3.274167\n",
      "16100 loss: 4.243036 recon loss: 3.273680\n",
      "16200 loss: 4.242036 recon loss: 3.259979\n",
      "16300 loss: 4.250940 recon loss: 3.272239\n",
      "16400 loss: 4.242636 recon loss: 3.276117\n",
      "16500 loss: 4.244996 recon loss: 3.261678\n",
      "16600 loss: 4.242641 recon loss: 3.256334\n",
      "16700 loss: 4.242807 recon loss: 3.273415\n",
      "16800 loss: 4.245035 recon loss: 3.264081\n",
      "16900 loss: 4.245008 recon loss: 3.271224\n",
      "17000 loss: 4.243532 recon loss: 3.257536\n",
      "17100 loss: 4.246459 recon loss: 3.267816\n",
      "17200 loss: 4.242827 recon loss: 3.256294\n",
      "17300 loss: 4.240719 recon loss: 3.258615\n",
      "17400 loss: 4.244040 recon loss: 3.253782\n",
      "17500 loss: 4.250585 recon loss: 3.272402\n",
      "17600 loss: 4.243392 recon loss: 3.259567\n",
      "17700 loss: 4.244855 recon loss: 3.243673\n",
      "17800 loss: 4.242410 recon loss: 3.257228\n",
      "17900 loss: 4.243534 recon loss: 3.260455\n",
      "18000 loss: 4.239290 recon loss: 3.250180\n",
      "18100 loss: 4.246303 recon loss: 3.260467\n",
      "18200 loss: 4.244443 recon loss: 3.261274\n",
      "18300 loss: 4.241395 recon loss: 3.245375\n",
      "18400 loss: 4.239409 recon loss: 3.248914\n",
      "18500 loss: 4.246776 recon loss: 3.247575\n",
      "18600 loss: 4.245507 recon loss: 3.255909\n",
      "18700 loss: 4.242362 recon loss: 3.253685\n",
      "18800 loss: 4.242759 recon loss: 3.237404\n",
      "18900 loss: 4.240860 recon loss: 3.247983\n",
      "19000 loss: 4.243924 recon loss: 3.248436\n",
      "19100 loss: 4.246590 recon loss: 3.252254\n",
      "19200 loss: 4.240484 recon loss: 3.253360\n",
      "19300 loss: 4.243948 recon loss: 3.237488\n",
      "19400 loss: 4.242102 recon loss: 3.248717\n",
      "19500 loss: 4.241795 recon loss: 3.231881\n",
      "19600 loss: 4.245440 recon loss: 3.239444\n",
      "19700 loss: 4.245355 recon loss: 3.248131\n",
      "19800 loss: 4.237740 recon loss: 3.231153\n",
      "19900 loss: 4.243479 recon loss: 3.248163\n",
      "20000 loss: 4.240777 recon loss: 3.229036\n"
     ]
    }
   ],
   "source": [
    "# Train\n",
    "num_training_updates = 20000\n",
    "\n",
    "train_losses = []\n",
    "recon_losses = []\n",
    "for step_index, data in enumerate(train_dataset):\n",
    "    train_results = prior_train_step(data)\n",
    "    train_losses.append(train_results['loss'])\n",
    "    recon_losses.append(train_results['x_recon_loss'])\n",
    "    \n",
    "    if (step_index + 1) % 100 == 0:\n",
    "        print('%d loss: %f recon loss: %f' % (step_index+1, np.mean(train_losses[-100:]), np.mean(recon_losses[-100:])))\n",
    "        \n",
    "    if (step_index + 1) % num_training_updates == 0:\n",
    "        break"
   ]
  },
  {
   "cell_type": "markdown",
   "metadata": {},
   "source": [
    "# Reconstruct the State"
   ]
  },
  {
   "cell_type": "code",
   "execution_count": 59,
   "metadata": {},
   "outputs": [],
   "source": [
    "def bit_array(a):\n",
    "    aa = []\n",
    "    for c in a:\n",
    "        if c == '0':\n",
    "            aa.append(0)\n",
    "        else:\n",
    "            aa.append(1)\n",
    "        \n",
    "    return np.array(aa)\n",
    "\n",
    "def bin_to_dec(b):\n",
    "    dec = 0\n",
    "    for idx, val in enumerate(b):\n",
    "        dec += val << (len(b) - idx - 1)\n",
    "        \n",
    "    return dec\n",
    "\n",
    "def update_counts(psi, vqvae, catvae, batch_size):\n",
    "    # Sample in the CatVAE latent space using the prior and decode to get distributions by site\n",
    "    prior_latent_dim = catvae.encoder.latent_dim\n",
    "    z = tf.random.normal([batch_size, prior_latent_dim], mean=0.0, stddev=1.0, dtype=tf.dtypes.float32)\n",
    "    output = catvae.decoder(z)\n",
    "    vdim = output['x_recon'].shape[1]\n",
    "    \n",
    "    # Sample from the resulting distributions\n",
    "    probs = tf.reshape(output['x_recon'], [-1, output['x_recon'].shape[-1]])\n",
    "    samples = tf.reshape(tf.random.categorical(tf.math.log(probs), 1), [batch_size, vdim]).numpy()\n",
    "    \n",
    "    # Get the embedding vectors from the quantizer and run them through the decoder\n",
    "    embeddings = vqvae.quantizer.quantize(samples)\n",
    "    output = tf.nn.sigmoid(vqvae.decoder(embeddings))\n",
    "    \n",
    "    # Sample from the binary distributions coming out of the decoder to get spins\n",
    "    eps = tf.random.uniform(output.shape, minval=0, maxval=1, dtype=tf.dtypes.float64)\n",
    "    meas_int = tf.cast(tf.math.greater_equal(output, eps), tf.int32).numpy()\n",
    "    \n",
    "    # Count the spins that came out\n",
    "    for ii in range(meas_int.shape[0]):\n",
    "        idx = bin_to_dec(meas_int[ii,:])\n",
    "        psi[idx] += 1\n",
    "\n",
    "def get_psi(vqvae, catvae, num_samples):\n",
    "    n = vqvae.encoder.hidden[0].input_size\n",
    "    psi = np.zeros(2**n)\n",
    "    batch_size = 1000\n",
    "    total_samples = 0\n",
    "    while total_samples < num_samples:\n",
    "        update_counts(psi, vqvae, catvae, batch_size)\n",
    "        total_samples = total_samples + batch_size\n",
    "        \n",
    "        if total_samples % 100000 == 0:\n",
    "            print(total_samples)\n",
    "        \n",
    "    # Normalize\n",
    "    psi = np.sqrt(psi*(1.0/float(total_samples)))\n",
    "    \n",
    "    return psi"
   ]
  },
  {
   "cell_type": "code",
   "execution_count": 64,
   "metadata": {},
   "outputs": [
    {
     "name": "stdout",
     "output_type": "stream",
     "text": [
      "100000\n",
      "200000\n",
      "300000\n",
      "400000\n",
      "500000\n",
      "600000\n",
      "700000\n",
      "800000\n",
      "900000\n",
      "1000000\n"
     ]
    }
   ],
   "source": [
    "psi = get_psi(vqvae, catvae, 1000000)"
   ]
  },
  {
   "cell_type": "code",
   "execution_count": 65,
   "metadata": {},
   "outputs": [
    {
     "data": {
      "text/plain": [
       "1.0"
      ]
     },
     "execution_count": 65,
     "metadata": {},
     "output_type": "execute_result"
    }
   ],
   "source": [
    "np.dot(psi, psi)"
   ]
  },
  {
   "cell_type": "code",
   "execution_count": 66,
   "metadata": {},
   "outputs": [
    {
     "data": {
      "text/plain": [
       "array([0.29378393, 0.12348684, 0.08542833, ..., 0.07972453, 0.15172014,\n",
       "       0.27493999])"
      ]
     },
     "execution_count": 66,
     "metadata": {},
     "output_type": "execute_result"
    }
   ],
   "source": [
    "psi"
   ]
  },
  {
   "cell_type": "code",
   "execution_count": 67,
   "metadata": {},
   "outputs": [],
   "source": [
    "# Save the wave function\n",
    "np.savetxt('/Users/tuckerkj/Google Drive/Research/QML/data/quc_examples/Tutorial1_TrainPosRealWaveFunction/ld_results/vq_vae_psi_2d.txt', psi)\n"
   ]
  },
  {
   "cell_type": "markdown",
   "metadata": {},
   "source": [
    "# Debug"
   ]
  },
  {
   "cell_type": "code",
   "execution_count": 206,
   "metadata": {},
   "outputs": [],
   "source": [
    "cout = tf.random.categorical(tf.math.log([[1/3.0,1/3.0,1]]), 100000)"
   ]
  },
  {
   "cell_type": "code",
   "execution_count": 207,
   "metadata": {},
   "outputs": [
    {
     "data": {
      "text/plain": [
       "TensorShape([1, 100000])"
      ]
     },
     "execution_count": 207,
     "metadata": {},
     "output_type": "execute_result"
    }
   ],
   "source": [
    "cout.shape"
   ]
  },
  {
   "cell_type": "code",
   "execution_count": 208,
   "metadata": {},
   "outputs": [
    {
     "data": {
      "text/plain": [
       "(array([0.297525, 0.29988 , 0.902595]),\n",
       " array([0.        , 0.66666667, 1.33333333, 2.        ]),\n",
       " <BarContainer object of 3 artists>)"
      ]
     },
     "execution_count": 208,
     "metadata": {},
     "output_type": "execute_result"
    },
    {
     "data": {
      "image/png": "[encoded data removed]",
      "text/plain": [
       "<Figure size 432x288 with 1 Axes>"
      ]
     },
     "metadata": {
      "needs_background": "light"
     },
     "output_type": "display_data"
    }
   ],
   "source": [
    "plt.hist(np.transpose(cout.numpy()), bins=3, density=True)"
   ]
  },
  {
   "cell_type": "markdown",
   "metadata": {},
   "source": [
    "# Results"
   ]
  },
  {
   "cell_type": "code",
   "execution_count": 151,
   "metadata": {},
   "outputs": [],
   "source": [
    "def bit_array(a):\n",
    "    aa = []\n",
    "    for c in a:\n",
    "        if c == '0':\n",
    "            aa.append(0)\n",
    "        else:\n",
    "            aa.append(1)\n",
    "        \n",
    "    return np.array(aa)\n",
    "\n",
    "def bin_to_dec(b):\n",
    "    dec = 0\n",
    "    for idx, val in enumerate(b):\n",
    "        dec += val << (len(b) - idx - 1)\n",
    "        \n",
    "    return dec\n",
    "\n",
    "def update_counts(psi, vae, batch_size, latent_dim, num_embeddings):\n",
    "    #latent_dim = vae.decoder.hidden[0].input_size\n",
    "    encoding_indices = tf.random.uniform([batch_size, latent_dim], minval=0, maxval=num_embeddings, dtype=tf.dtypes.int32)\n",
    "    z = vae.quantizer.quantize(encoding_indices)\n",
    "    output = tf.nn.sigmoid(vae.decoder(z))\n",
    "    \n",
    "    #meas = tf.math.round(tf.nn.sigmoid(vae.decoder(z)))\n",
    "    #meas_int = meas.numpy().astype(int)\n",
    "    \n",
    "    eps = tf.random.uniform(output.shape, minval=0, maxval=1, dtype=tf.dtypes.float64)\n",
    "    meas_int = tf.cast(tf.math.greater_equal(output, eps), tf.int32).numpy()\n",
    "    \n",
    "    for ii in range(meas_int.shape[0]):\n",
    "        idx = bin_to_dec(meas_int[ii,:])\n",
    "        psi[idx] += 1\n",
    "\n",
    "def get_psi(vae, num_samples, latent_dim, num_embeddings):\n",
    "    n = vae.encoder.hidden[0].input_size\n",
    "    psi = np.zeros(2**n)\n",
    "    batch_size = 1000\n",
    "    total_samples = 0\n",
    "    while total_samples < num_samples:\n",
    "        update_counts(psi, vae, batch_size, latent_dim, num_embeddings)\n",
    "        total_samples = total_samples + batch_size\n",
    "        \n",
    "        if total_samples % 100000 == 0:\n",
    "            print(total_samples)\n",
    "        \n",
    "    # Normalize\n",
    "    psi = np.sqrt(psi*(1.0/float(total_samples)))\n",
    "    \n",
    "    return psi\n",
    "\n",
    "import math\n",
    "def get_psi_loss(vae, num_samples):\n",
    "    n = vae.encoder.hidden[0].input_size\n",
    "    norm = 0\n",
    "    psi = []\n",
    "    for d in range(2**n):\n",
    "        dbin = bit_array(np.binary_repr(d, width=n))\n",
    "        dbin_input = np.tile(dbin, (num_samples,1))\n",
    "        model_output = vae(dbin_input.astype(float), False)\n",
    "        val = np.exp(-0.5*model_output['loss'])\n",
    "        psi.append(val)\n",
    "        norm = norm + val*val\n",
    "    norm = math.sqrt(norm)\n",
    "    \n",
    "    for ii in range(len(psi)):\n",
    "        psi[ii] = psi[ii]/norm\n",
    "        \n",
    "    return np.array(psi)"
   ]
  },
  {
   "cell_type": "code",
   "execution_count": 167,
   "metadata": {},
   "outputs": [
    {
     "name": "stdout",
     "output_type": "stream",
     "text": [
      "100000\n",
      "200000\n",
      "300000\n",
      "400000\n",
      "500000\n",
      "600000\n",
      "700000\n",
      "800000\n",
      "900000\n",
      "1000000\n"
     ]
    }
   ],
   "source": [
    "psi = get_psi(vae, 1000000, latent_dim, num_embeddings)"
   ]
  },
  {
   "cell_type": "code",
   "execution_count": 152,
   "metadata": {},
   "outputs": [],
   "source": [
    "psi = get_psi_loss(vae, 100)"
   ]
  },
  {
   "cell_type": "code",
   "execution_count": 168,
   "metadata": {},
   "outputs": [
    {
     "data": {
      "text/plain": [
       "1.0"
      ]
     },
     "execution_count": 168,
     "metadata": {},
     "output_type": "execute_result"
    }
   ],
   "source": [
    "np.dot(psi, psi)"
   ]
  },
  {
   "cell_type": "code",
   "execution_count": 169,
   "metadata": {},
   "outputs": [
    {
     "data": {
      "text/plain": [
       "array([0.06286493, 0.05860034, 0.02302173, ..., 0.03388215, 0.059279  ,\n",
       "       0.07390534])"
      ]
     },
     "execution_count": 169,
     "metadata": {},
     "output_type": "execute_result"
    }
   ],
   "source": [
    "psi"
   ]
  },
  {
   "cell_type": "code",
   "execution_count": 150,
   "metadata": {},
   "outputs": [],
   "source": [
    "# Save the wave function\n",
    "np.savetxt('/Users/tuckerkj/Google Drive/Research/QML/data/quc_examples/Tutorial1_TrainPosRealWaveFunction/ld_results/vq_vae_psi_4d.txt', psi)\n"
   ]
  },
  {
   "cell_type": "code",
   "execution_count": 235,
   "metadata": {},
   "outputs": [
    {
     "data": {
      "text/plain": [
       "<tf.Tensor: shape=(1, 10), dtype=float64, numpy=\n",
       "array([[9.99999998e-01, 9.99832452e-01, 3.88153379e-05, 1.23308660e-01,\n",
       "        8.22105859e-04, 3.03396258e-01, 7.60546807e-02, 5.40437299e-01,\n",
       "        9.99388982e-01, 9.98755929e-01]])>"
      ]
     },
     "execution_count": 235,
     "metadata": {},
     "output_type": "execute_result"
    }
   ],
   "source": [
    "model_output = vae(tf.constant([[1.0,1.0,0.0,0.0,0.0,0.0,0.0,0.0,1.0,1.0]], dtype=tf.dtypes.float64), False)\n",
    "tf.nn.sigmoid(model_output['x_recon'])"
   ]
  },
  {
   "cell_type": "code",
   "execution_count": 249,
   "metadata": {},
   "outputs": [
    {
     "name": "stdout",
     "output_type": "stream",
     "text": [
      "[1 1 1 0 0 0 0 0 0 0]\n"
     ]
    },
    {
     "data": {
      "text/plain": [
       "<tf.Tensor: shape=(1, 10), dtype=float64, numpy=\n",
       "array([[9.99999999e-01, 9.95067153e-01, 9.99999996e-01, 4.97837346e-01,\n",
       "        1.86698696e-05, 1.01609373e-03, 2.72384370e-06, 1.43693769e-03,\n",
       "        2.08595918e-02, 2.91849690e-02]])>"
      ]
     },
     "execution_count": 249,
     "metadata": {},
     "output_type": "execute_result"
    }
   ],
   "source": [
    "idx = 4\n",
    "model_output = vae(tf.constant([is_test[idx,:]], dtype=tf.dtypes.float64), False)\n",
    "print(is_test[idx,:])\n",
    "tf.nn.sigmoid(model_output['x_recon'])"
   ]
  },
  {
   "cell_type": "code",
   "execution_count": 257,
   "metadata": {},
   "outputs": [
    {
     "data": {
      "text/plain": [
       "<tf.Tensor: shape=(2, 2, 4), dtype=float32, numpy=\n",
       "array([[[0., 0., 1., 0.],\n",
       "        [0., 0., 1., 0.]],\n",
       "\n",
       "       [[0., 1., 0., 0.],\n",
       "        [0., 0., 0., 1.]]], dtype=float32)>"
      ]
     },
     "execution_count": 257,
     "metadata": {},
     "output_type": "execute_result"
    }
   ],
   "source": [
    "tf.one_hot(tf.constant([[2,2],[1,3]]), 4)"
   ]
  },
  {
   "cell_type": "markdown",
   "metadata": {},
   "source": [
    "# Latent Space Visualization"
   ]
  },
  {
   "cell_type": "code",
   "execution_count": 435,
   "metadata": {},
   "outputs": [],
   "source": [
    "def plot_qvae_results(vae, z_min, z_max, frame_size = 0, fig_size = 10, fig_bkgrnd = 1):\n",
    "    \"\"\"Plots spins as a function of the 2D latent vector\n",
    "    # Arguments\n",
    "        models (tuple): encoder and decoder models\n",
    "        frame_size: width of space between spin images\n",
    "    \"\"\"\n",
    "\n",
    "    #encoder, decoder = models\n",
    "    #x_test, y_test = data\n",
    "    #os.makedirs(model_name, exist_ok=True)\n",
    "\n",
    "    #filename = os.path.join(model_name, \"vae_mean.png\")\n",
    "    # display a 2D plot of the digit classes in the latent space\n",
    "    #z_mean, _, _ = encoder.predict(x_test,\n",
    "    #                               batch_size=batch_size)\n",
    "    #plt.figure(figsize=(12, 10))\n",
    "    #plt.scatter(z_mean[:, 0], z_mean[:, 1], c=y_test)\n",
    "    #plt.colorbar()\n",
    "    #plt.xlabel(\"z[0]\")\n",
    "    #plt.ylabel(\"z[1]\")\n",
    "    #plt.savefig(filename)\n",
    "    #plt.show()\n",
    "\n",
    "    #filename = os.path.join(model_name, \"digits_over_latent.png\")\n",
    "    # display a 30x30 2D manifold of spin distributions\n",
    "    n = 30\n",
    "    digit_size = 10\n",
    "    figure = np.zeros(((frame_size + digit_size) * n + frame_size,\n",
    "                       (frame_size + digit_size) * n + frame_size)) + fig_bkgrnd\n",
    "    # linearly spaced coordinates corresponding to the 2D plot\n",
    "    # of digit classes in the latent space\n",
    "    grid_x = np.linspace(z_min[0], z_max[0], n)\n",
    "    grid_y = np.linspace(z_min[1], z_max[1], n)[::-1]\n",
    "\n",
    "    for i, yi in enumerate(grid_y):\n",
    "        for j, xi in enumerate(grid_x):\n",
    "            z_sample = tf.constant([[xi, yi]], dtype=tf.dtypes.float64)\n",
    "            x_decoded = tf.nn.sigmoid(vae.decoder(z_sample)).numpy()\n",
    "            #print(x_decoded[0].shape)\n",
    "            digit = np.stack([x_decoded[0] for ii in range(digit_size)]).reshape(digit_size, digit_size)\n",
    "            figure[i * (frame_size + digit_size) + frame_size: (i + 1) * (digit_size + frame_size),\n",
    "                   j * (frame_size + digit_size) + frame_size: (j + 1) * (digit_size + frame_size)] = digit\n",
    "\n",
    "    plt.figure(figsize=(fig_size, fig_size))\n",
    "    start_range = (digit_size + frame_size) // 2\n",
    "    end_range = (n - 1) * (digit_size + frame_size) + start_range + 1\n",
    "    pixel_range = np.arange(start_range, end_range, digit_size + frame_size)\n",
    "    sample_range_x = np.round(grid_x, 1)\n",
    "    sample_range_y = np.round(grid_y, 1)\n",
    "    plt.xticks(pixel_range, sample_range_x)\n",
    "    plt.yticks(pixel_range, sample_range_y)\n",
    "    plt.xlabel(\"z[0]\")\n",
    "    plt.ylabel(\"z[1]\")\n",
    "    plt.imshow(figure, cmap='gray', vmin=0, vmax=1)\n",
    "    #plt.savefig(filename)\n",
    "    plt.show()"
   ]
  },
  {
   "cell_type": "code",
   "execution_count": 436,
   "metadata": {},
   "outputs": [],
   "source": [
    "def plot_qvae_latent(vae, z):\n",
    "    \"\"\"Plots spins for the given 2D latent vector\n",
    "    # Arguments\n",
    "        models (tuple): encoder and decoder models\n",
    "        z (tuple): latent vector\n",
    "    \"\"\"\n",
    "\n",
    "    #encoder, decoder = models\n",
    "\n",
    "    img_height = 10\n",
    "\n",
    "    z_sample = tf.constant([z], dtype=tf.dtypes.float64)\n",
    "    x_decoded = tf.nn.sigmoid(vae.decoder(z_sample)).numpy()\n",
    "    spin_img = np.stack([x_decoded[0] for ii in range(img_height)]).reshape(img_height, img_height)\n",
    "\n",
    "    #print(spin_img)\n",
    "\n",
    "    plt.figure(figsize=(10, 4))\n",
    "    plt.imshow(spin_img, cmap='gray', vmin=0, vmax=1)\n",
    "    plt.show()"
   ]
  },
  {
   "cell_type": "code",
   "execution_count": 437,
   "metadata": {},
   "outputs": [
    {
     "data": {
      "image/png": "[encoded data removed]",
      "text/plain": [
       "<Figure size 864x864 with 1 Axes>"
      ]
     },
     "metadata": {
      "needs_background": "light"
     },
     "output_type": "display_data"
    }
   ],
   "source": [
    "plot_qvae_results(vae, [-4,-4], [4,4], 0, 12, 0.3)"
   ]
  },
  {
   "cell_type": "markdown",
   "metadata": {},
   "source": [
    "# Scratch"
   ]
  },
  {
   "cell_type": "code",
   "execution_count": 34,
   "metadata": {},
   "outputs": [
    {
     "name": "stdout",
     "output_type": "stream",
     "text": [
      "0 a\n",
      "1 b\n",
      "2 c\n"
     ]
    }
   ],
   "source": [
    "a = ['a','b','c']\n",
    "for idx, val in enumerate(a):\n",
    "    print(idx, val)"
   ]
  },
  {
   "cell_type": "code",
   "execution_count": 21,
   "metadata": {},
   "outputs": [],
   "source": [
    "lin = snt.Linear(intermediate_dim, name='test_lin')"
   ]
  },
  {
   "cell_type": "code",
   "execution_count": 27,
   "metadata": {},
   "outputs": [
    {
     "data": {
      "text/plain": [
       "<tf.Tensor: shape=(7999, 100), dtype=float64, numpy=\n",
       "array([[-0.46892147, -0.34728384, -0.74378709, ...,  0.29133378,\n",
       "        -0.26331127,  0.37414721],\n",
       "       [-0.04339453,  0.07576071, -1.16743727, ...,  0.93418193,\n",
       "         0.12609772,  0.85569389],\n",
       "       [ 0.02504136,  0.50216652, -1.25031824, ...,  0.6404713 ,\n",
       "         0.64565024,  0.74596843],\n",
       "       ...,\n",
       "       [ 0.15872905,  0.34844972, -1.76310892, ...,  0.21092538,\n",
       "         0.73613504,  0.02295605],\n",
       "       [ 0.31660287,  0.42498682, -0.7207022 , ..., -0.56906129,\n",
       "         0.97862829, -0.26926874],\n",
       "       [ 1.17475972,  0.32786622, -1.34069384, ...,  0.04867342,\n",
       "         0.99408893, -0.87915178]])>"
      ]
     },
     "execution_count": 27,
     "metadata": {},
     "output_type": "execute_result"
    }
   ],
   "source": [
    "lin(is_train.astype(float))"
   ]
  }
 ],
 "metadata": {
  "kernelspec": {
   "display_name": "Python 3",
   "language": "python",
   "name": "python3"
  },
  "language_info": {
   "codemirror_mode": {
    "name": "ipython",
    "version": 3
   },
   "file_extension": ".py",
   "mimetype": "text/x-python",
   "name": "python",
   "nbconvert_exporter": "python",
   "pygments_lexer": "ipython3",
   "version": "3.8.5"
  }
 },
 "nbformat": 4,
 "nbformat_minor": 4
}
