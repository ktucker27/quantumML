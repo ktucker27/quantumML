{
 "cells": [
  {
   "cell_type": "code",
   "execution_count": 1,
   "metadata": {},
   "outputs": [],
   "source": [
    "import sys\n",
    "assert sys.version_info >= (3, 6), \"Sonnet 2 requires Python >=3.6\""
   ]
  },
  {
   "cell_type": "code",
   "execution_count": 5,
   "metadata": {},
   "outputs": [
    {
     "name": "stdout",
     "output_type": "stream",
     "text": [
      "TensorFlow version 2.3.1\n",
      "Sonnet version 2.0.0\n"
     ]
    }
   ],
   "source": [
    "import matplotlib.pyplot as plt\n",
    "import numpy as np\n",
    "import tensorflow.compat.v2 as tf\n",
    "import tensorflow_datasets as tfds\n",
    "import tree\n",
    "import pandas as pd\n",
    "\n",
    "try:\n",
    "  import sonnet.v2 as snt\n",
    "  tf.enable_v2_behavior()\n",
    "except ImportError:\n",
    "  import sonnet as snt\n",
    "\n",
    "print(\"TensorFlow version {}\".format(tf.__version__))\n",
    "print(\"Sonnet version {}\".format(snt.__version__))"
   ]
  },
  {
   "cell_type": "code",
   "execution_count": 4,
   "metadata": {},
   "outputs": [
    {
     "name": "stdout",
     "output_type": "stream",
     "text": [
      "/Users/tuckerkj/git/quantumML/python\r\n"
     ]
    }
   ],
   "source": [
    "!pwd"
   ]
  },
  {
   "cell_type": "code",
   "execution_count": 6,
   "metadata": {},
   "outputs": [],
   "source": [
    "is_data = pd.read_table('/Users/tuckerkj/Google Drive/Research/QML/data/quc_examples/Tutorial1_TrainPosRealWaveFunction/tfim1d_data.txt', delimiter=' ', usecols=range(10)).values\n",
    "is_train = is_data[0:7999]\n",
    "is_test = is_data[8000:9999]"
   ]
  },
  {
   "cell_type": "code",
   "execution_count": 7,
   "metadata": {},
   "outputs": [
    {
     "data": {
      "text/plain": [
       "(7999, 10)"
      ]
     },
     "execution_count": 7,
     "metadata": {},
     "output_type": "execute_result"
    }
   ],
   "source": [
    "is_train.shape"
   ]
  },
  {
   "cell_type": "code",
   "execution_count": 8,
   "metadata": {},
   "outputs": [],
   "source": [
    "original_dim = is_train.shape[1]"
   ]
  },
  {
   "cell_type": "code",
   "execution_count": 329,
   "metadata": {},
   "outputs": [],
   "source": [
    "# network parameters\n",
    "input_shape = (original_dim, )\n",
    "intermediate_dim = 100\n",
    "batch_size = 128\n",
    "latent_dim = 10\n",
    "epochs = 50"
   ]
  },
  {
   "cell_type": "code",
   "execution_count": 99,
   "metadata": {},
   "outputs": [],
   "source": [
    "class Encoder(snt.Module):\n",
    "    def __init__(self, hdims, latent_dim, name=None):\n",
    "        super(Encoder, self).__init__(name)\n",
    "        \n",
    "        self.hidden = []\n",
    "        for idx, hdim in enumerate(hdims):\n",
    "            layer_name = 'hidden{}'.format(idx)\n",
    "            self.hidden.append(snt.Linear(hdim, name=layer_name))\n",
    "            \n",
    "        self.z_mean = snt.Linear(latent_dim, name='z_mean')\n",
    "        self.z_log_var = snt.Linear(latent_dim, name='z_log_var')\n",
    "        \n",
    "    def __call__(self, x):\n",
    "        \n",
    "        # Run the input through the encoder network\n",
    "        for hidden_layer in self.hidden:\n",
    "            x = tf.nn.relu(hidden_layer(x))\n",
    "        \n",
    "        # Use the reparameterization trick to calculate the latent variables\n",
    "        out_mean = self.z_mean(x)\n",
    "        out_log_var = self.z_log_var(x)\n",
    "        \n",
    "        eps = tf.random.normal(out_mean.shape, mean=0.0, stddev=1.0, dtype=tf.dtypes.double)\n",
    "        out_z = eps*tf.exp(0.5*out_log_var) + out_mean\n",
    "        \n",
    "        return {\n",
    "            'mean': out_mean,\n",
    "            'log_var': out_log_var,\n",
    "            'z': out_z\n",
    "        }"
   ]
  },
  {
   "cell_type": "code",
   "execution_count": 100,
   "metadata": {},
   "outputs": [],
   "source": [
    "enc = Encoder([intermediate_dim], latent_dim)"
   ]
  },
  {
   "cell_type": "code",
   "execution_count": 101,
   "metadata": {},
   "outputs": [],
   "source": [
    "output = enc(is_train.astype(float))"
   ]
  },
  {
   "cell_type": "code",
   "execution_count": 102,
   "metadata": {},
   "outputs": [
    {
     "data": {
      "text/plain": [
       "<tf.Tensor: shape=(7999, 4), dtype=float64, numpy=\n",
       "array([[-0.84969135, -0.14474033,  0.94266648, -1.33234972],\n",
       "       [ 1.59825231,  1.27660613, -0.59592931,  0.44321434],\n",
       "       [-1.16510074,  0.44970454,  0.49334116,  2.55032563],\n",
       "       ...,\n",
       "       [-0.70828427,  0.56456185, -0.09377427, -0.41238832],\n",
       "       [ 1.07908452,  0.89689959,  0.55525758, -0.81118676],\n",
       "       [ 0.80897817, -0.79185813, -0.88526631, -1.26299141]])>"
      ]
     },
     "execution_count": 102,
     "metadata": {},
     "output_type": "execute_result"
    }
   ],
   "source": [
    "output['z']"
   ]
  },
  {
   "cell_type": "code",
   "execution_count": 103,
   "metadata": {},
   "outputs": [
    {
     "data": {
      "text/plain": [
       "TensorShape([7999, 4])"
      ]
     },
     "execution_count": 103,
     "metadata": {},
     "output_type": "execute_result"
    }
   ],
   "source": [
    "output['z'].shape"
   ]
  },
  {
   "cell_type": "code",
   "execution_count": 122,
   "metadata": {},
   "outputs": [],
   "source": [
    "class Decoder(snt.Module):\n",
    "    def __init__(self, hdims, vdim, apply_sigmoid=False, name=None):\n",
    "        super(Decoder, self).__init__(name)\n",
    "        \n",
    "        self.apply_sigmoid = apply_sigmoid\n",
    "        \n",
    "        self.hidden = []\n",
    "        for idx, hdim in enumerate(hdims):\n",
    "            layer_name = 'hidden{}'.format(idx)\n",
    "            self.hidden.append(snt.Linear(hdim, name=layer_name))\n",
    "            \n",
    "        self.visible = snt.Linear(vdim, 'visible')\n",
    "        \n",
    "    def __call__(self, x):\n",
    "        \n",
    "        for hidden_layer in self.hidden:\n",
    "            x = tf.nn.relu(hidden_layer(x))\n",
    "        \n",
    "        if self.apply_sigmoid:\n",
    "            output = tf.nn.sigmoid(self.visible(x))\n",
    "        else:\n",
    "            output = self.visible(x)\n",
    "        \n",
    "        return output"
   ]
  },
  {
   "cell_type": "code",
   "execution_count": 222,
   "metadata": {},
   "outputs": [],
   "source": [
    "def log_normal_pdf(sample, mean, logvar, raxis=1):\n",
    "    log2pi = tf.cast(tf.math.log(2. * np.pi), tf.float64)\n",
    "\n",
    "    return tf.reduce_sum(\n",
    "        -.5 * ((sample - mean) ** tf.cast(2., tf.float64) * tf.cast(tf.exp(-logvar), tf.float64) + logvar + log2pi),\n",
    "        axis=raxis)"
   ]
  },
  {
   "cell_type": "code",
   "execution_count": 439,
   "metadata": {},
   "outputs": [],
   "source": [
    "class VAE(snt.Module):\n",
    "    def __init__(self, encoder, decoder, name=None):\n",
    "        super(VAE, self).__init__(name)\n",
    "        \n",
    "        self.encoder = encoder\n",
    "        self.decoder = decoder\n",
    "                \n",
    "    def __call__(self, x):\n",
    "        # Run the encoder and decoder\n",
    "        encoder_output = self.encoder(x)\n",
    "        x_recon = self.decoder(encoder_output['z'])\n",
    "        \n",
    "        # Compute the loss function\n",
    "        cross_ent = tf.nn.sigmoid_cross_entropy_with_logits(logits=x_recon, labels=x)\n",
    "        log_pxz = -tf.reduce_sum(cross_ent, axis=1)\n",
    "        log_pz = log_normal_pdf(encoder_output['z'], tf.cast(0.0, tf.float64), tf.cast(0.0, tf.float64))\n",
    "        log_qzx = log_normal_pdf(encoder_output['z'], encoder_output['mean'], encoder_output['log_var'])\n",
    "        x_recon_loss = -tf.reduce_mean(log_pxz)\n",
    "        loss = x_recon_loss - tf.reduce_mean(log_pz - log_qzx)\n",
    "        \n",
    "        return {\n",
    "            'x_recon': x_recon,\n",
    "            'x_recon_loss': x_recon_loss,\n",
    "            'loss': loss\n",
    "        }"
   ]
  },
  {
   "cell_type": "code",
   "execution_count": 224,
   "metadata": {},
   "outputs": [],
   "source": [
    "dec = Decoder([intermediate_dim], original_dim, True)"
   ]
  },
  {
   "cell_type": "code",
   "execution_count": 225,
   "metadata": {},
   "outputs": [],
   "source": [
    "out_vae = dec(out_mean)"
   ]
  },
  {
   "cell_type": "code",
   "execution_count": 226,
   "metadata": {},
   "outputs": [
    {
     "data": {
      "text/plain": [
       "<tf.Tensor: shape=(7999, 10), dtype=float64, numpy=\n",
       "array([[0.49805634, 0.56821103, 0.50252593, ..., 0.48917527, 0.49358371,\n",
       "        0.50441736],\n",
       "       [0.53601288, 0.5935486 , 0.50996864, ..., 0.58233535, 0.53262848,\n",
       "        0.60569744],\n",
       "       [0.5478654 , 0.61765784, 0.51126612, ..., 0.57514374, 0.53254697,\n",
       "        0.60227551],\n",
       "       ...,\n",
       "       [0.52100069, 0.58701677, 0.50656475, ..., 0.51436673, 0.50555004,\n",
       "        0.52687339],\n",
       "       [0.48744812, 0.52148054, 0.50447984, ..., 0.4845681 , 0.50866468,\n",
       "        0.45236271],\n",
       "       [0.47266674, 0.5267072 , 0.49364781, ..., 0.48846628, 0.51004165,\n",
       "        0.43183574]])>"
      ]
     },
     "execution_count": 226,
     "metadata": {},
     "output_type": "execute_result"
    }
   ],
   "source": [
    "out_vae"
   ]
  },
  {
   "cell_type": "code",
   "execution_count": 227,
   "metadata": {},
   "outputs": [],
   "source": [
    "vae = VAE(enc, dec)"
   ]
  },
  {
   "cell_type": "code",
   "execution_count": 247,
   "metadata": {},
   "outputs": [],
   "source": [
    "model_output = vae(is_test.astype(float))"
   ]
  },
  {
   "cell_type": "code",
   "execution_count": 248,
   "metadata": {},
   "outputs": [
    {
     "data": {
      "text/plain": [
       "{'x_recon': <tf.Tensor: shape=(1999, 10), dtype=float64, numpy=\n",
       " array([[-2.41030074, -3.95024537, -4.11566051, ..., -2.13874472,\n",
       "         -0.05711204,  0.65082204],\n",
       "        [ 1.93131619,  3.65198849,  3.6826388 , ...,  5.53376829,\n",
       "          4.68197597,  2.42143408],\n",
       "        [-0.06304897, -1.015196  , -3.01258011, ..., -2.76105152,\n",
       "         -0.43423799,  0.81827818],\n",
       "        ...,\n",
       "        [-0.44084999, -0.44696913, -0.18770231, ...,  2.62859023,\n",
       "          1.88377851,  0.9240937 ],\n",
       "        [ 3.05381366,  3.74502294,  1.39615498, ...,  1.20114837,\n",
       "          0.36089653, -0.14511819],\n",
       "        [ 0.61598874,  1.84835129,  2.45726687, ...,  0.88366842,\n",
       "         -0.96806828, -1.01429355]])>,\n",
       " 'loss': <tf.Tensor: shape=(), dtype=float64, numpy=5.460200439432734>}"
      ]
     },
     "execution_count": 248,
     "metadata": {},
     "output_type": "execute_result"
    }
   ],
   "source": [
    "model_output"
   ]
  },
  {
   "cell_type": "markdown",
   "metadata": {},
   "source": [
    "## Training"
   ]
  },
  {
   "cell_type": "code",
   "execution_count": 230,
   "metadata": {},
   "outputs": [],
   "source": [
    "#@title Utility function to show progress bar.\n",
    "from tqdm import tqdm\n",
    "\n",
    "num_meas = is_train.shape[0]\n",
    "\n",
    "def progress_bar(generator):\n",
    "  return tqdm(\n",
    "      generator,\n",
    "      unit='measurements',\n",
    "      unit_scale=batch_size,\n",
    "      total=(num_meas // batch_size) * epochs)"
   ]
  },
  {
   "cell_type": "code",
   "execution_count": 440,
   "metadata": {},
   "outputs": [],
   "source": [
    "# network parameters\n",
    "learning_rate = 3e-4\n",
    "input_shape = (original_dim, )\n",
    "batch_size = 128\n",
    "epochs = 50\n",
    "\n",
    "# F = 0.9322\n",
    "#intermediate_dim = [500, 500]\n",
    "#latent_dim = 10\n",
    "\n",
    "# F = 0.9255\n",
    "#intermediate_dim = [100]\n",
    "#latent_dim = 4\n",
    "\n",
    "# F = 0.8960\n",
    "intermediate_dim = [100]\n",
    "latent_dim = 2\n",
    "\n",
    "optimizer = snt.optimizers.Adam(learning_rate=learning_rate)\n",
    "\n",
    "enc = Encoder(intermediate_dim, latent_dim)\n",
    "dec = Decoder(intermediate_dim, original_dim, apply_sigmoid=False)\n",
    "vae = VAE(enc, dec)\n",
    "\n",
    "@tf.function\n",
    "def train_step(data):\n",
    "    with tf.GradientTape() as tape:\n",
    "        model_output = vae(tf.cast(data, tf.float64))\n",
    "    \n",
    "    trainable_variables = vae.trainable_variables\n",
    "    grads = tape.gradient(model_output['loss'], trainable_variables)\n",
    "    optimizer.apply(grads, trainable_variables)\n",
    "    \n",
    "    return model_output"
   ]
  },
  {
   "cell_type": "code",
   "execution_count": 441,
   "metadata": {},
   "outputs": [],
   "source": [
    "# Get data sliced for SGD\n",
    "train_dataset = (\n",
    "    tf.data.Dataset.from_tensor_slices(is_train)\n",
    "    .shuffle(1000)\n",
    "    .repeat(-1)  # repeat indefinitely\n",
    "    .batch(batch_size, drop_remainder=True)\n",
    "    .prefetch(-1))\n",
    "\n",
    "valid_dataset = (\n",
    "    tf.data.Dataset.from_tensor_slices(is_test)\n",
    "    .repeat(1)  # 1 epoch\n",
    "    .batch(batch_size)\n",
    "    .prefetch(-1))"
   ]
  },
  {
   "cell_type": "code",
   "execution_count": 442,
   "metadata": {
    "scrolled": true
   },
   "outputs": [
    {
     "name": "stdout",
     "output_type": "stream",
     "text": [
      "100 loss: 7.146414 recon loss: 7.020801\n",
      "200 loss: 6.904332 recon loss: 6.816095\n",
      "300 loss: 6.604772 recon loss: 6.339479\n",
      "400 loss: 6.196607 recon loss: 5.638426\n",
      "500 loss: 5.970500 recon loss: 5.221810\n",
      "600 loss: 5.842040 recon loss: 5.016687\n",
      "700 loss: 5.727293 recon loss: 4.818276\n",
      "800 loss: 5.653028 recon loss: 4.603914\n",
      "900 loss: 5.568192 recon loss: 4.402849\n",
      "1000 loss: 5.548892 recon loss: 4.320751\n",
      "1100 loss: 5.542055 recon loss: 4.279095\n",
      "1200 loss: 5.523295 recon loss: 4.255221\n",
      "1300 loss: 5.514966 recon loss: 4.229504\n",
      "1400 loss: 5.522162 recon loss: 4.236432\n",
      "1500 loss: 5.515808 recon loss: 4.221351\n",
      "1600 loss: 5.514995 recon loss: 4.213570\n",
      "1700 loss: 5.501826 recon loss: 4.198322\n",
      "1800 loss: 5.515702 recon loss: 4.198887\n",
      "1900 loss: 5.496958 recon loss: 4.189190\n",
      "2000 loss: 5.507142 recon loss: 4.191519\n",
      "2100 loss: 5.506499 recon loss: 4.197121\n",
      "2200 loss: 5.505765 recon loss: 4.180296\n",
      "2300 loss: 5.494125 recon loss: 4.184492\n",
      "2400 loss: 5.505204 recon loss: 4.172588\n",
      "2500 loss: 5.500145 recon loss: 4.181415\n",
      "2600 loss: 5.494376 recon loss: 4.163870\n",
      "2700 loss: 5.486838 recon loss: 4.167002\n",
      "2800 loss: 5.504345 recon loss: 4.174300\n",
      "2900 loss: 5.489612 recon loss: 4.151460\n",
      "3000 loss: 5.501822 recon loss: 4.169603\n",
      "3100 loss: 5.489895 recon loss: 4.163495\n",
      "3200 loss: 5.494845 recon loss: 4.165939\n",
      "3300 loss: 5.482939 recon loss: 4.145822\n",
      "3400 loss: 5.494225 recon loss: 4.151815\n",
      "3500 loss: 5.493793 recon loss: 4.157827\n",
      "3600 loss: 5.483683 recon loss: 4.152287\n",
      "3700 loss: 5.498012 recon loss: 4.163989\n",
      "3800 loss: 5.490084 recon loss: 4.143687\n",
      "3900 loss: 5.477603 recon loss: 4.131352\n",
      "4000 loss: 5.502511 recon loss: 4.154037\n",
      "4100 loss: 5.496151 recon loss: 4.153076\n",
      "4200 loss: 5.486896 recon loss: 4.142776\n",
      "4300 loss: 5.497860 recon loss: 4.150179\n",
      "4400 loss: 5.484567 recon loss: 4.138263\n",
      "4500 loss: 5.485451 recon loss: 4.143554\n",
      "4600 loss: 5.491725 recon loss: 4.148626\n",
      "4700 loss: 5.475692 recon loss: 4.125753\n",
      "4800 loss: 5.489013 recon loss: 4.138969\n",
      "4900 loss: 5.496769 recon loss: 4.140421\n",
      "5000 loss: 5.485155 recon loss: 4.148897\n",
      "5100 loss: 5.491355 recon loss: 4.131965\n",
      "5200 loss: 5.479494 recon loss: 4.135499\n",
      "5300 loss: 5.488812 recon loss: 4.135958\n",
      "5400 loss: 5.482236 recon loss: 4.132469\n",
      "5500 loss: 5.487443 recon loss: 4.125901\n",
      "5600 loss: 5.487055 recon loss: 4.134624\n",
      "5700 loss: 5.486997 recon loss: 4.137098\n",
      "5800 loss: 5.482918 recon loss: 4.118329\n",
      "5900 loss: 5.476944 recon loss: 4.123331\n",
      "6000 loss: 5.483572 recon loss: 4.123898\n",
      "6100 loss: 5.488374 recon loss: 4.129966\n",
      "6200 loss: 5.475068 recon loss: 4.112056\n",
      "6300 loss: 5.478097 recon loss: 4.118045\n",
      "6400 loss: 5.486580 recon loss: 4.123996\n",
      "6500 loss: 5.481264 recon loss: 4.123577\n",
      "6600 loss: 5.485257 recon loss: 4.124115\n",
      "6700 loss: 5.481302 recon loss: 4.119361\n",
      "6800 loss: 5.476535 recon loss: 4.113097\n",
      "6900 loss: 5.481927 recon loss: 4.118477\n",
      "7000 loss: 5.485430 recon loss: 4.118540\n",
      "7100 loss: 5.481156 recon loss: 4.115646\n",
      "7200 loss: 5.474876 recon loss: 4.113670\n",
      "7300 loss: 5.488608 recon loss: 4.120819\n",
      "7400 loss: 5.482172 recon loss: 4.113143\n",
      "7500 loss: 5.485391 recon loss: 4.114643\n",
      "7600 loss: 5.473225 recon loss: 4.111705\n",
      "7700 loss: 5.487453 recon loss: 4.119482\n",
      "7800 loss: 5.478275 recon loss: 4.107334\n",
      "7900 loss: 5.477165 recon loss: 4.115617\n",
      "8000 loss: 5.486197 recon loss: 4.119997\n",
      "8100 loss: 5.481429 recon loss: 4.114630\n",
      "8200 loss: 5.477412 recon loss: 4.103893\n",
      "8300 loss: 5.480786 recon loss: 4.105331\n",
      "8400 loss: 5.473553 recon loss: 4.107605\n",
      "8500 loss: 5.483928 recon loss: 4.106220\n",
      "8600 loss: 5.484448 recon loss: 4.116011\n",
      "8700 loss: 5.469506 recon loss: 4.097066\n",
      "8800 loss: 5.480320 recon loss: 4.105448\n",
      "8900 loss: 5.481523 recon loss: 4.104342\n",
      "9000 loss: 5.479720 recon loss: 4.107014\n",
      "9100 loss: 5.477060 recon loss: 4.090638\n",
      "9200 loss: 5.479009 recon loss: 4.101754\n",
      "9300 loss: 5.475103 recon loss: 4.098846\n",
      "9400 loss: 5.478059 recon loss: 4.094753\n",
      "9500 loss: 5.477526 recon loss: 4.103524\n",
      "9600 loss: 5.472975 recon loss: 4.099376\n",
      "9700 loss: 5.482571 recon loss: 4.111886\n",
      "9800 loss: 5.467863 recon loss: 4.081296\n",
      "9900 loss: 5.481381 recon loss: 4.110553\n",
      "10000 loss: 5.481074 recon loss: 4.100623\n"
     ]
    }
   ],
   "source": [
    "# Train\n",
    "num_training_updates = 10000\n",
    "\n",
    "train_losses = []\n",
    "recon_losses = []\n",
    "for step_index, data in enumerate(train_dataset):\n",
    "    train_results = train_step(data)\n",
    "    train_losses.append(train_results['loss'])\n",
    "    recon_losses.append(train_results['x_recon_loss'])\n",
    "    \n",
    "    if (step_index + 1) % 100 == 0:\n",
    "        print('%d loss: %f recon loss: %f' % (step_index+1, np.mean(train_losses[-100:]), np.mean(recon_losses[-100:])))\n",
    "        \n",
    "    if (step_index + 1) % num_training_updates == 0:\n",
    "        break"
   ]
  },
  {
   "cell_type": "markdown",
   "metadata": {},
   "source": [
    "# Results"
   ]
  },
  {
   "cell_type": "code",
   "execution_count": 443,
   "metadata": {},
   "outputs": [
    {
     "name": "stdout",
     "output_type": "stream",
     "text": [
      "{'x_recon': <tf.Tensor: shape=(1999, 10), dtype=float64, numpy=\n",
      "array([[-1.58494853, -2.91472226, -4.09412297, ..., -3.77848026,\n",
      "        -2.52449308, -1.42205767],\n",
      "       [ 0.28907037,  0.63071683,  0.98794119, ...,  1.55443735,\n",
      "         1.03865771,  0.59058374],\n",
      "       [-1.7104791 , -2.91625425, -4.05870762, ..., -3.09063811,\n",
      "        -1.97973961, -1.06146582],\n",
      "       ...,\n",
      "       [ 0.53502356,  1.0402721 ,  1.49831569, ...,  1.67679089,\n",
      "         1.12732827,  0.63200751],\n",
      "       [ 0.55828429,  1.03413183,  1.42332454, ...,  0.60572987,\n",
      "         0.23760661,  0.13664109],\n",
      "       [ 0.90034583,  1.61456101,  2.1108182 , ...,  1.14656728,\n",
      "         0.64348732,  0.33888833]])>, 'x_recon_loss': <tf.Tensor: shape=(), dtype=float64, numpy=4.143496160021958>, 'loss': <tf.Tensor: shape=(), dtype=float64, numpy=5.534641569508929>}\n"
     ]
    }
   ],
   "source": [
    "# Look at validation set\n",
    "model_output = vae(is_test.astype(float))\n",
    "print(model_output)"
   ]
  },
  {
   "cell_type": "code",
   "execution_count": 407,
   "metadata": {},
   "outputs": [],
   "source": [
    "def bit_array(a):\n",
    "    aa = []\n",
    "    for c in a:\n",
    "        if c == '0':\n",
    "            aa.append(0)\n",
    "        else:\n",
    "            aa.append(1)\n",
    "        \n",
    "    return np.array(aa)\n",
    "\n",
    "def bin_to_dec(b):\n",
    "    dec = 0\n",
    "    for idx, val in enumerate(b):\n",
    "        dec += val << (len(b) - idx - 1)\n",
    "        \n",
    "    return dec\n",
    "\n",
    "def update_counts(psi, vae, batch_size):\n",
    "    latent_dim = vae.decoder.hidden[0].input_size\n",
    "    z = tf.random.normal([batch_size, latent_dim], mean=0.0, stddev=1.0, dtype=tf.dtypes.double)\n",
    "    output = tf.nn.sigmoid(vae.decoder(z))\n",
    "    \n",
    "    #meas = tf.math.round(tf.nn.sigmoid(vae.decoder(z)))\n",
    "    #meas_int = meas.numpy().astype(int)\n",
    "    \n",
    "    eps = tf.random.uniform(output.shape, minval=0, maxval=1, dtype=tf.dtypes.float64)\n",
    "    meas_int = tf.cast(tf.math.greater_equal(output, eps), tf.int32).numpy()\n",
    "    \n",
    "    for ii in range(meas_int.shape[0]):\n",
    "        idx = bin_to_dec(meas_int[ii,:])\n",
    "        psi[idx] += 1\n",
    "\n",
    "def get_psi(vae, num_samples):\n",
    "    n = vae.encoder.hidden[0].input_size\n",
    "    psi = np.zeros(2**n)\n",
    "    batch_size = 1000\n",
    "    total_samples = 0\n",
    "    while total_samples < num_samples:\n",
    "        update_counts(psi, vae, batch_size)\n",
    "        total_samples = total_samples + batch_size\n",
    "        \n",
    "    # Normalize\n",
    "    psi = np.sqrt(psi*(1.0/float(total_samples)))\n",
    "    \n",
    "    return psi\n",
    "\n",
    "import math\n",
    "def get_psi_loss(vae, num_samples):\n",
    "    n = vae.encoder.hidden[0].input_size\n",
    "    norm = 0\n",
    "    psi = []\n",
    "    for d in range(2**n):\n",
    "        dbin = bit_array(np.binary_repr(d, width=n))\n",
    "        dbin_input = np.tile(dbin, (num_samples,1))\n",
    "        model_output = vae(dbin_input.astype(float))\n",
    "        val = np.exp(-0.5*model_output['loss'])\n",
    "        psi.append(val)\n",
    "        norm = norm + val*val\n",
    "    norm = math.sqrt(norm)\n",
    "    \n",
    "    for ii in range(len(psi)):\n",
    "        psi[ii] = psi[ii]/norm\n",
    "        \n",
    "    return np.array(psi)"
   ]
  },
  {
   "cell_type": "code",
   "execution_count": 444,
   "metadata": {},
   "outputs": [],
   "source": [
    "psi = get_psi(vae, 1000000)"
   ]
  },
  {
   "cell_type": "code",
   "execution_count": 384,
   "metadata": {},
   "outputs": [],
   "source": [
    "psi = get_psi_loss(vae, 100)"
   ]
  },
  {
   "cell_type": "code",
   "execution_count": 445,
   "metadata": {},
   "outputs": [
    {
     "data": {
      "text/plain": [
       "1.0"
      ]
     },
     "execution_count": 445,
     "metadata": {},
     "output_type": "execute_result"
    }
   ],
   "source": [
    "np.dot(psi, psi)"
   ]
  },
  {
   "cell_type": "code",
   "execution_count": 446,
   "metadata": {},
   "outputs": [
    {
     "data": {
      "text/plain": [
       "array([0.27571362, 0.15433405, 0.10885771, ..., 0.10843892, 0.14810469,\n",
       "       0.28293992])"
      ]
     },
     "execution_count": 446,
     "metadata": {},
     "output_type": "execute_result"
    }
   ],
   "source": [
    "psi"
   ]
  },
  {
   "cell_type": "code",
   "execution_count": 447,
   "metadata": {},
   "outputs": [],
   "source": [
    "# Save the wave function\n",
    "np.savetxt('/Users/tuckerkj/Google Drive/Research/QML/data/quc_examples/Tutorial1_TrainPosRealWaveFunction/ld_results/new_vae_psi_2d_2.txt', psi)\n"
   ]
  },
  {
   "cell_type": "code",
   "execution_count": 431,
   "metadata": {},
   "outputs": [
    {
     "data": {
      "text/plain": [
       "<tf.Tensor: shape=(2,), dtype=float64, numpy=array([0., 0.])>"
      ]
     },
     "execution_count": 431,
     "metadata": {},
     "output_type": "execute_result"
    }
   ],
   "source": [
    "tf.constant([0.0,0.0], dtype=tf.dtypes.float64)"
   ]
  },
  {
   "cell_type": "code",
   "execution_count": 434,
   "metadata": {},
   "outputs": [
    {
     "data": {
      "text/plain": [
       "array([[0.49948223, 0.47909102, 0.4631004 , 0.48189872, 0.50126455,\n",
       "        0.52136611, 0.53988155, 0.50752295, 0.48625074, 0.48328118]])"
      ]
     },
     "execution_count": 434,
     "metadata": {},
     "output_type": "execute_result"
    }
   ],
   "source": [
    "tf.nn.sigmoid(vae.decoder(tf.constant([[0.0,0.0]], dtype=tf.dtypes.float64))).numpy()"
   ]
  },
  {
   "cell_type": "code",
   "execution_count": 449,
   "metadata": {},
   "outputs": [
    {
     "name": "stdout",
     "output_type": "stream",
     "text": [
      "[1 1 1 0 0 0 0 0 0 0]\n"
     ]
    },
    {
     "data": {
      "text/plain": [
       "<tf.Tensor: shape=(1, 10), dtype=float64, numpy=\n",
       "array([[0.53063576, 0.52039995, 0.44608931, 0.38376788, 0.29352216,\n",
       "        0.22230295, 0.17192136, 0.12719649, 0.16739543, 0.28911048]])>"
      ]
     },
     "execution_count": 449,
     "metadata": {},
     "output_type": "execute_result"
    }
   ],
   "source": [
    "idx = 4\n",
    "model_output = vae(tf.constant([is_test[idx,:]], dtype=tf.dtypes.float64))\n",
    "print(is_test[idx,:])\n",
    "tf.nn.sigmoid(model_output['x_recon'])"
   ]
  },
  {
   "cell_type": "markdown",
   "metadata": {},
   "source": [
    "# Latent Space Visualization"
   ]
  },
  {
   "cell_type": "code",
   "execution_count": 435,
   "metadata": {},
   "outputs": [],
   "source": [
    "def plot_qvae_results(vae, z_min, z_max, frame_size = 0, fig_size = 10, fig_bkgrnd = 1):\n",
    "    \"\"\"Plots spins as a function of the 2D latent vector\n",
    "    # Arguments\n",
    "        models (tuple): encoder and decoder models\n",
    "        frame_size: width of space between spin images\n",
    "    \"\"\"\n",
    "\n",
    "    #encoder, decoder = models\n",
    "    #x_test, y_test = data\n",
    "    #os.makedirs(model_name, exist_ok=True)\n",
    "\n",
    "    #filename = os.path.join(model_name, \"vae_mean.png\")\n",
    "    # display a 2D plot of the digit classes in the latent space\n",
    "    #z_mean, _, _ = encoder.predict(x_test,\n",
    "    #                               batch_size=batch_size)\n",
    "    #plt.figure(figsize=(12, 10))\n",
    "    #plt.scatter(z_mean[:, 0], z_mean[:, 1], c=y_test)\n",
    "    #plt.colorbar()\n",
    "    #plt.xlabel(\"z[0]\")\n",
    "    #plt.ylabel(\"z[1]\")\n",
    "    #plt.savefig(filename)\n",
    "    #plt.show()\n",
    "\n",
    "    #filename = os.path.join(model_name, \"digits_over_latent.png\")\n",
    "    # display a 30x30 2D manifold of spin distributions\n",
    "    n = 30\n",
    "    digit_size = 10\n",
    "    figure = np.zeros(((frame_size + digit_size) * n + frame_size,\n",
    "                       (frame_size + digit_size) * n + frame_size)) + fig_bkgrnd\n",
    "    # linearly spaced coordinates corresponding to the 2D plot\n",
    "    # of digit classes in the latent space\n",
    "    grid_x = np.linspace(z_min[0], z_max[0], n)\n",
    "    grid_y = np.linspace(z_min[1], z_max[1], n)[::-1]\n",
    "\n",
    "    for i, yi in enumerate(grid_y):\n",
    "        for j, xi in enumerate(grid_x):\n",
    "            z_sample = tf.constant([[xi, yi]], dtype=tf.dtypes.float64)\n",
    "            x_decoded = tf.nn.sigmoid(vae.decoder(z_sample)).numpy()\n",
    "            #print(x_decoded[0].shape)\n",
    "            digit = np.stack([x_decoded[0] for ii in range(digit_size)]).reshape(digit_size, digit_size)\n",
    "            figure[i * (frame_size + digit_size) + frame_size: (i + 1) * (digit_size + frame_size),\n",
    "                   j * (frame_size + digit_size) + frame_size: (j + 1) * (digit_size + frame_size)] = digit\n",
    "\n",
    "    plt.figure(figsize=(fig_size, fig_size))\n",
    "    start_range = (digit_size + frame_size) // 2\n",
    "    end_range = (n - 1) * (digit_size + frame_size) + start_range + 1\n",
    "    pixel_range = np.arange(start_range, end_range, digit_size + frame_size)\n",
    "    sample_range_x = np.round(grid_x, 1)\n",
    "    sample_range_y = np.round(grid_y, 1)\n",
    "    plt.xticks(pixel_range, sample_range_x)\n",
    "    plt.yticks(pixel_range, sample_range_y)\n",
    "    plt.xlabel(\"z[0]\")\n",
    "    plt.ylabel(\"z[1]\")\n",
    "    plt.imshow(figure, cmap='gray', vmin=0, vmax=1)\n",
    "    #plt.savefig(filename)\n",
    "    plt.show()"
   ]
  },
  {
   "cell_type": "code",
   "execution_count": 436,
   "metadata": {},
   "outputs": [],
   "source": [
    "def plot_qvae_latent(vae, z):\n",
    "    \"\"\"Plots spins for the given 2D latent vector\n",
    "    # Arguments\n",
    "        models (tuple): encoder and decoder models\n",
    "        z (tuple): latent vector\n",
    "    \"\"\"\n",
    "\n",
    "    #encoder, decoder = models\n",
    "\n",
    "    img_height = 10\n",
    "\n",
    "    z_sample = tf.constant([z], dtype=tf.dtypes.float64)\n",
    "    x_decoded = tf.nn.sigmoid(vae.decoder(z_sample)).numpy()\n",
    "    spin_img = np.stack([x_decoded[0] for ii in range(img_height)]).reshape(img_height, img_height)\n",
    "\n",
    "    #print(spin_img)\n",
    "\n",
    "    plt.figure(figsize=(10, 4))\n",
    "    plt.imshow(spin_img, cmap='gray', vmin=0, vmax=1)\n",
    "    plt.show()"
   ]
  },
  {
   "cell_type": "code",
   "execution_count": 448,
   "metadata": {},
   "outputs": [
    {
     "data": {
      "image/png": "[encoded data removed]",
      "text/plain": [
       "<Figure size 864x864 with 1 Axes>"
      ]
     },
     "metadata": {
      "needs_background": "light"
     },
     "output_type": "display_data"
    }
   ],
   "source": [
    "plot_qvae_results(vae, [-4,-4], [4,4], 0, 12, 0.3)"
   ]
  },
  {
   "cell_type": "code",
   "execution_count": 454,
   "metadata": {},
   "outputs": [
    {
     "data": {
      "image/png": "[encoded data removed]",
      "text/plain": [
       "<Figure size 720x288 with 1 Axes>"
      ]
     },
     "metadata": {
      "needs_background": "light"
     },
     "output_type": "display_data"
    }
   ],
   "source": [
    "plot_qvae_latent(vae, [-4.0,2])"
   ]
  },
  {
   "cell_type": "markdown",
   "metadata": {},
   "source": [
    "# Scratch"
   ]
  },
  {
   "cell_type": "code",
   "execution_count": 34,
   "metadata": {},
   "outputs": [
    {
     "name": "stdout",
     "output_type": "stream",
     "text": [
      "0 a\n",
      "1 b\n",
      "2 c\n"
     ]
    }
   ],
   "source": [
    "a = ['a','b','c']\n",
    "for idx, val in enumerate(a):\n",
    "    print(idx, val)"
   ]
  },
  {
   "cell_type": "code",
   "execution_count": 21,
   "metadata": {},
   "outputs": [],
   "source": [
    "lin = snt.Linear(intermediate_dim, name='test_lin')"
   ]
  },
  {
   "cell_type": "code",
   "execution_count": 27,
   "metadata": {},
   "outputs": [
    {
     "data": {
      "text/plain": [
       "<tf.Tensor: shape=(7999, 100), dtype=float64, numpy=\n",
       "array([[-0.46892147, -0.34728384, -0.74378709, ...,  0.29133378,\n",
       "        -0.26331127,  0.37414721],\n",
       "       [-0.04339453,  0.07576071, -1.16743727, ...,  0.93418193,\n",
       "         0.12609772,  0.85569389],\n",
       "       [ 0.02504136,  0.50216652, -1.25031824, ...,  0.6404713 ,\n",
       "         0.64565024,  0.74596843],\n",
       "       ...,\n",
       "       [ 0.15872905,  0.34844972, -1.76310892, ...,  0.21092538,\n",
       "         0.73613504,  0.02295605],\n",
       "       [ 0.31660287,  0.42498682, -0.7207022 , ..., -0.56906129,\n",
       "         0.97862829, -0.26926874],\n",
       "       [ 1.17475972,  0.32786622, -1.34069384, ...,  0.04867342,\n",
       "         0.99408893, -0.87915178]])>"
      ]
     },
     "execution_count": 27,
     "metadata": {},
     "output_type": "execute_result"
    }
   ],
   "source": [
    "lin(is_train.astype(float))"
   ]
  }
 ],
 "metadata": {
  "kernelspec": {
   "display_name": "Python 3",
   "language": "python",
   "name": "python3"
  },
  "language_info": {
   "codemirror_mode": {
    "name": "ipython",
    "version": 3
   },
   "file_extension": ".py",
   "mimetype": "text/x-python",
   "name": "python",
   "nbconvert_exporter": "python",
   "pygments_lexer": "ipython3",
   "version": "3.8.5"
  }
 },
 "nbformat": 4,
 "nbformat_minor": 4
}
